{
 "cells": [
  {
   "cell_type": "markdown",
   "id": "fa7cf9e7",
   "metadata": {},
   "source": [
    "# Set_2 \n",
    "## Q2a"
   ]
  },
  {
   "cell_type": "code",
   "execution_count": 1,
   "id": "4df3b83f",
   "metadata": {},
   "outputs": [],
   "source": [
    "import scipy.stats as stats\n",
    "import numpy as np"
   ]
  },
  {
   "cell_type": "code",
   "execution_count": 11,
   "id": "42b999fd",
   "metadata": {},
   "outputs": [
    {
     "data": {
      "text/plain": [
       "0.5"
      ]
     },
     "execution_count": 11,
     "metadata": {},
     "output_type": "execute_result"
    }
   ],
   "source": [
    "mean = 38\n",
    "std = 6 \n",
    "q2_lessthan_38 = stats.norm.cdf(38, loc = mean, scale = std)\n",
    "q2_lessthan_38"
   ]
  },
  {
   "cell_type": "code",
   "execution_count": 14,
   "id": "add558a0",
   "metadata": {},
   "outputs": [
    {
     "data": {
      "text/plain": [
       "0.8413447460685429"
      ]
     },
     "execution_count": 14,
     "metadata": {},
     "output_type": "execute_result"
    }
   ],
   "source": [
    "q2_less_than_44 = stats.norm.cdf(44, loc = mean, scale = std)\n",
    "q2_less_than_44"
   ]
  },
  {
   "cell_type": "code",
   "execution_count": 15,
   "id": "d26ca9ee",
   "metadata": {},
   "outputs": [
    {
     "name": "stdout",
     "output_type": "stream",
     "text": [
      "The probability of employee age between 38 and 44 is 34.13 %\n"
     ]
    }
   ],
   "source": [
    "q2_betweeen_38_and_44 = q2_less_than_44 - q2_lessthan_38 \n",
    "print('The probability of employee age between 38 and 44 is',np.round(q2_betweeen_38_and_44*100,2),'%')"
   ]
  },
  {
   "cell_type": "code",
   "execution_count": 16,
   "id": "63ad66df",
   "metadata": {},
   "outputs": [
    {
     "name": "stdout",
     "output_type": "stream",
     "text": [
      "The probability of employee age more than 44 is 15.87 %\n"
     ]
    }
   ],
   "source": [
    "q2_morethan_44 = 1-stats.norm.cdf(44, loc = mean, scale = std) \n",
    "print('The probability of employee age more than 44 is',np.round(q2_morethan_44*100,2),'%') \n",
    " "
   ]
  },
  {
   "cell_type": "code",
   "execution_count": 17,
   "id": "2233b760",
   "metadata": {},
   "outputs": [
    {
     "name": "stdout",
     "output_type": "stream",
     "text": [
      "Answer: False\n"
     ]
    }
   ],
   "source": [
    "true_or_false = (q2_morethan_44 > q2_betweeen_38_and_44)\n",
    "print('Answer:',true_or_false)"
   ]
  },
  {
   "cell_type": "code",
   "execution_count": 18,
   "id": "4bac3d92",
   "metadata": {},
   "outputs": [],
   "source": [
    "#More employees at the processing center are between 38 and 44 than older than 44."
   ]
  },
  {
   "cell_type": "markdown",
   "id": "5a49f4b6",
   "metadata": {},
   "source": [
    "## Q2b"
   ]
  },
  {
   "cell_type": "code",
   "execution_count": 19,
   "id": "aa3cd4b8",
   "metadata": {},
   "outputs": [
    {
     "name": "stdout",
     "output_type": "stream",
     "text": [
      "A training program for employees under the age of 30 at the center would be expected to attract about 36.0 employees\n"
     ]
    }
   ],
   "source": [
    "q2b = stats.norm.cdf(30, loc = mean, scale = std)*100\n",
    "print('A training program for employees under the age of 30 at the center would be expected to attract about',np.round((q2b*400)/100,0),'employees')"
   ]
  },
  {
   "cell_type": "code",
   "execution_count": null,
   "id": "4b3a236b",
   "metadata": {},
   "outputs": [],
   "source": [
    "#Answer is true"
   ]
  },
  {
   "cell_type": "markdown",
   "id": "1716571e",
   "metadata": {},
   "source": [
    "## Q4"
   ]
  },
  {
   "cell_type": "code",
   "execution_count": 24,
   "id": "582ec108",
   "metadata": {},
   "outputs": [
    {
     "name": "stdout",
     "output_type": "stream",
     "text": [
      "The two values of a and b symmetric about the mean are such that the probability of the random variable taking a value between them is 0.99: [ 48.5 151.5]\n"
     ]
    }
   ],
   "source": [
    "print(\"The two values of a and b symmetric about the mean are such that the probability of the random variable taking a value between them is 0.99:\"\"\",np.round(stats.norm.interval(0.99, loc = 100, scale = 20),1))"
   ]
  },
  {
   "cell_type": "code",
   "execution_count": 65,
   "id": "f7587b46",
   "metadata": {},
   "outputs": [],
   "source": [
    "a=np.round(stats.norm.interval(0.475, loc = 5*45, scale = 3*45),1)"
   ]
  },
  {
   "cell_type": "code",
   "execution_count": 66,
   "id": "48e2dbb0",
   "metadata": {},
   "outputs": [],
   "source": [
    "b=np.round(stats.norm.interval(0.475, loc = 7*45, scale = 4*45),1)"
   ]
  },
  {
   "cell_type": "code",
   "execution_count": 68,
   "id": "2e181c3e",
   "metadata": {},
   "outputs": [
    {
     "data": {
      "text/plain": [
       "array([ -61.4, -118.6])"
      ]
     },
     "execution_count": 68,
     "metadata": {},
     "output_type": "execute_result"
    }
   ],
   "source": [
    "a-b"
   ]
  },
  {
   "cell_type": "code",
   "execution_count": null,
   "id": "5aec2826",
   "metadata": {},
   "outputs": [],
   "source": []
  }
 ],
 "metadata": {
  "kernelspec": {
   "display_name": "Python 3 (ipykernel)",
   "language": "python",
   "name": "python3"
  },
  "language_info": {
   "codemirror_mode": {
    "name": "ipython",
    "version": 3
   },
   "file_extension": ".py",
   "mimetype": "text/x-python",
   "name": "python",
   "nbconvert_exporter": "python",
   "pygments_lexer": "ipython3",
   "version": "3.10.9"
  }
 },
 "nbformat": 4,
 "nbformat_minor": 5
}

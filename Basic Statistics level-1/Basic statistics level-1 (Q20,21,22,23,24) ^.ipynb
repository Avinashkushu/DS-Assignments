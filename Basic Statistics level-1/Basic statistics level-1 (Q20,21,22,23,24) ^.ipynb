{
 "cells": [
  {
   "cell_type": "markdown",
   "id": "a8c4ff43",
   "metadata": {},
   "source": [
    "### Q20 :Calculate the probability of MPG  of Cars for the below cases.\n",
    "#### MPG<- Cars.MPG\n",
    "#### a.\tP(MPG>38)\n",
    "#### b.\tP(MPG<40)\n",
    "#### c.    P (20<MPG<50)\n"
   ]
  },
  {
   "cell_type": "code",
   "execution_count": 1,
   "id": "51117217",
   "metadata": {},
   "outputs": [],
   "source": [
    "import numpy as np\n",
    "import pandas as pd\n",
    "import matplotlib.pyplot as plt\n",
    "import seaborn as sns\n",
    "from scipy import stats \n",
    "import warnings\n",
    "warnings.filterwarnings('ignore')"
   ]
  },
  {
   "cell_type": "code",
   "execution_count": 2,
   "id": "843133bd",
   "metadata": {},
   "outputs": [
    {
     "data": {
      "text/html": [
       "<div>\n",
       "<style scoped>\n",
       "    .dataframe tbody tr th:only-of-type {\n",
       "        vertical-align: middle;\n",
       "    }\n",
       "\n",
       "    .dataframe tbody tr th {\n",
       "        vertical-align: top;\n",
       "    }\n",
       "\n",
       "    .dataframe thead th {\n",
       "        text-align: right;\n",
       "    }\n",
       "</style>\n",
       "<table border=\"1\" class=\"dataframe\">\n",
       "  <thead>\n",
       "    <tr style=\"text-align: right;\">\n",
       "      <th></th>\n",
       "      <th>HP</th>\n",
       "      <th>MPG</th>\n",
       "      <th>VOL</th>\n",
       "      <th>SP</th>\n",
       "      <th>WT</th>\n",
       "    </tr>\n",
       "  </thead>\n",
       "  <tbody>\n",
       "    <tr>\n",
       "      <th>0</th>\n",
       "      <td>49</td>\n",
       "      <td>53.700681</td>\n",
       "      <td>89</td>\n",
       "      <td>104.185353</td>\n",
       "      <td>28.762059</td>\n",
       "    </tr>\n",
       "    <tr>\n",
       "      <th>1</th>\n",
       "      <td>55</td>\n",
       "      <td>50.013401</td>\n",
       "      <td>92</td>\n",
       "      <td>105.461264</td>\n",
       "      <td>30.466833</td>\n",
       "    </tr>\n",
       "    <tr>\n",
       "      <th>2</th>\n",
       "      <td>55</td>\n",
       "      <td>50.013401</td>\n",
       "      <td>92</td>\n",
       "      <td>105.461264</td>\n",
       "      <td>30.193597</td>\n",
       "    </tr>\n",
       "    <tr>\n",
       "      <th>3</th>\n",
       "      <td>70</td>\n",
       "      <td>45.696322</td>\n",
       "      <td>92</td>\n",
       "      <td>113.461264</td>\n",
       "      <td>30.632114</td>\n",
       "    </tr>\n",
       "    <tr>\n",
       "      <th>4</th>\n",
       "      <td>53</td>\n",
       "      <td>50.504232</td>\n",
       "      <td>92</td>\n",
       "      <td>104.461264</td>\n",
       "      <td>29.889149</td>\n",
       "    </tr>\n",
       "  </tbody>\n",
       "</table>\n",
       "</div>"
      ],
      "text/plain": [
       "   HP        MPG  VOL          SP         WT\n",
       "0  49  53.700681   89  104.185353  28.762059\n",
       "1  55  50.013401   92  105.461264  30.466833\n",
       "2  55  50.013401   92  105.461264  30.193597\n",
       "3  70  45.696322   92  113.461264  30.632114\n",
       "4  53  50.504232   92  104.461264  29.889149"
      ]
     },
     "execution_count": 2,
     "metadata": {},
     "output_type": "execute_result"
    }
   ],
   "source": [
    "Q20 = pd.read_csv('Cars.csv')\n",
    "Q20.head()"
   ]
  },
  {
   "cell_type": "code",
   "execution_count": 3,
   "id": "3d27cd29",
   "metadata": {},
   "outputs": [
    {
     "data": {
      "text/plain": [
       "(81, 5)"
      ]
     },
     "execution_count": 3,
     "metadata": {},
     "output_type": "execute_result"
    }
   ],
   "source": [
    "Q20.shape"
   ]
  },
  {
   "cell_type": "code",
   "execution_count": 4,
   "id": "47b322f1",
   "metadata": {},
   "outputs": [
    {
     "data": {
      "text/plain": [
       "0.348"
      ]
     },
     "execution_count": 4,
     "metadata": {},
     "output_type": "execute_result"
    }
   ],
   "source": [
    "#P(MPG>38)\n",
    "Prob_MPG_greater_than_38 = 1-stats.norm.cdf(38,loc= Q20.MPG.mean(),scale=Q20.MPG.std())\n",
    "np.round(Prob_MPG_greater_than_38,3) "
   ]
  },
  {
   "cell_type": "code",
   "execution_count": 5,
   "id": "97d1c1c1",
   "metadata": {},
   "outputs": [
    {
     "data": {
      "text/plain": [
       "0.729"
      ]
     },
     "execution_count": 5,
     "metadata": {},
     "output_type": "execute_result"
    }
   ],
   "source": [
    "#P(MPG<40)\n",
    "Prob_MPG_less_than_40 = stats.norm.cdf(40,loc= Q20.MPG.mean(),scale=Q20.MPG.std())\n",
    "np.round(Prob_MPG_less_than_40,3) "
   ]
  },
  {
   "cell_type": "code",
   "execution_count": 25,
   "id": "4a6da2d7",
   "metadata": {},
   "outputs": [
    {
     "data": {
      "text/plain": [
       "0.729"
      ]
     },
     "execution_count": 25,
     "metadata": {},
     "output_type": "execute_result"
    }
   ],
   "source": [
    "#P(MPG<50)\n",
    "Prob_MPG_less_than_50 = stats.norm.cdf(40,loc= Q20.MPG.mean(),scale=Q20.MPG.std())\n",
    "np.round(Prob_MPG_less_than_50,3) "
   ]
  },
  {
   "cell_type": "code",
   "execution_count": 9,
   "id": "9235cec8",
   "metadata": {},
   "outputs": [
    {
     "name": "stdout",
     "output_type": "stream",
     "text": [
      "P(MPG<20) 0.943\n",
      "P(MPG<50) 0.956\n",
      "P(20<MPG<50) 0.013\n"
     ]
    }
   ],
   "source": [
    "#P(20<MPG<50)\n",
    "Prob_MPG_greater_than_20 = 1-stats.norm.cdf(20,loc= Q20.MPG.mean(),scale=Q20.MPG.std())\n",
    "print('P(MPG<20)', np.round(Prob_MPG_greater_than_20,3))\n",
    "Prob_MPG_less_than_50 = stats.norm.cdf(50,loc= Q20.MPG.mean(),scale=Q20.MPG.std())\n",
    "print('P(MPG<50)', np.round(Prob_MPG_less_than_50,3))\n",
    "prob_MPG_greater_than_20_and_less_than_50= np.round((Prob_MPG_less_than_50 ) - (Prob_MPG_greater_than_20),3) \n",
    "print('P(20<MPG<50)', (prob_MPG_greater_than_20_and_less_than_50))"
   ]
  },
  {
   "cell_type": "markdown",
   "id": "0da3eee5",
   "metadata": {},
   "source": [
    "#### Q20 Ans: a) P(MPG<20) = 0.943\n",
    "####                 b) P(MPG<50)  = 0.956\n",
    "####                 c) P(20<MPG<50) = 0.013"
   ]
  },
  {
   "cell_type": "code",
   "execution_count": null,
   "id": "5c63c4ed",
   "metadata": {},
   "outputs": [],
   "source": []
  },
  {
   "cell_type": "markdown",
   "id": "1cba215b",
   "metadata": {},
   "source": [
    "# Q21"
   ]
  },
  {
   "cell_type": "markdown",
   "id": "a720c4c3",
   "metadata": {},
   "source": [
    "### Q21 a) Check whether the MPG of Cars follows Normal Distribution "
   ]
  },
  {
   "cell_type": "code",
   "execution_count": 10,
   "id": "018a5a6d",
   "metadata": {},
   "outputs": [
    {
     "data": {
      "text/html": [
       "<div>\n",
       "<style scoped>\n",
       "    .dataframe tbody tr th:only-of-type {\n",
       "        vertical-align: middle;\n",
       "    }\n",
       "\n",
       "    .dataframe tbody tr th {\n",
       "        vertical-align: top;\n",
       "    }\n",
       "\n",
       "    .dataframe thead th {\n",
       "        text-align: right;\n",
       "    }\n",
       "</style>\n",
       "<table border=\"1\" class=\"dataframe\">\n",
       "  <thead>\n",
       "    <tr style=\"text-align: right;\">\n",
       "      <th></th>\n",
       "      <th>HP</th>\n",
       "      <th>MPG</th>\n",
       "      <th>VOL</th>\n",
       "      <th>SP</th>\n",
       "      <th>WT</th>\n",
       "    </tr>\n",
       "  </thead>\n",
       "  <tbody>\n",
       "    <tr>\n",
       "      <th>0</th>\n",
       "      <td>49</td>\n",
       "      <td>53.700681</td>\n",
       "      <td>89</td>\n",
       "      <td>104.185353</td>\n",
       "      <td>28.762059</td>\n",
       "    </tr>\n",
       "    <tr>\n",
       "      <th>1</th>\n",
       "      <td>55</td>\n",
       "      <td>50.013401</td>\n",
       "      <td>92</td>\n",
       "      <td>105.461264</td>\n",
       "      <td>30.466833</td>\n",
       "    </tr>\n",
       "    <tr>\n",
       "      <th>2</th>\n",
       "      <td>55</td>\n",
       "      <td>50.013401</td>\n",
       "      <td>92</td>\n",
       "      <td>105.461264</td>\n",
       "      <td>30.193597</td>\n",
       "    </tr>\n",
       "    <tr>\n",
       "      <th>3</th>\n",
       "      <td>70</td>\n",
       "      <td>45.696322</td>\n",
       "      <td>92</td>\n",
       "      <td>113.461264</td>\n",
       "      <td>30.632114</td>\n",
       "    </tr>\n",
       "    <tr>\n",
       "      <th>4</th>\n",
       "      <td>53</td>\n",
       "      <td>50.504232</td>\n",
       "      <td>92</td>\n",
       "      <td>104.461264</td>\n",
       "      <td>29.889149</td>\n",
       "    </tr>\n",
       "  </tbody>\n",
       "</table>\n",
       "</div>"
      ],
      "text/plain": [
       "   HP        MPG  VOL          SP         WT\n",
       "0  49  53.700681   89  104.185353  28.762059\n",
       "1  55  50.013401   92  105.461264  30.466833\n",
       "2  55  50.013401   92  105.461264  30.193597\n",
       "3  70  45.696322   92  113.461264  30.632114\n",
       "4  53  50.504232   92  104.461264  29.889149"
      ]
     },
     "execution_count": 10,
     "metadata": {},
     "output_type": "execute_result"
    }
   ],
   "source": [
    "a = pd.read_csv('Cars.csv')\n",
    "a.head()"
   ]
  },
  {
   "cell_type": "code",
   "execution_count": 11,
   "id": "a2c00b67",
   "metadata": {},
   "outputs": [
    {
     "data": {
      "text/plain": [
       "<Axes: xlabel='MPG', ylabel='Density'>"
      ]
     },
     "execution_count": 11,
     "metadata": {},
     "output_type": "execute_result"
    },
    {
     "data": {
      "image/png": "[encoded data removed]",
      "text/plain": [
       "<Figure size 640x480 with 1 Axes>"
      ]
     },
     "metadata": {},
     "output_type": "display_data"
    }
   ],
   "source": [
    "sns.distplot(a.MPG)\n",
    "#q21 a) MPG of cars follows normal distribution"
   ]
  },
  {
   "cell_type": "code",
   "execution_count": 12,
   "id": "165cace0",
   "metadata": {},
   "outputs": [
    {
     "data": {
      "text/plain": [
       "<Axes: ylabel='Density'>"
      ]
     },
     "execution_count": 12,
     "metadata": {},
     "output_type": "execute_result"
    },
    {
     "data": {
      "image/png": "[encoded data removed]",
      "text/plain": [
       "<Figure size 640x480 with 1 Axes>"
      ]
     },
     "metadata": {},
     "output_type": "display_data"
    }
   ],
   "source": [
    "a.MPG.plot.density()"
   ]
  },
  {
   "cell_type": "markdown",
   "id": "29b0f0a1",
   "metadata": {},
   "source": [
    "###  Q21 a) Ans:  MPG of cars follows normal distribution"
   ]
  },
  {
   "cell_type": "code",
   "execution_count": null,
   "id": "80a91580",
   "metadata": {},
   "outputs": [],
   "source": []
  },
  {
   "cell_type": "markdown",
   "id": "2d3efb70",
   "metadata": {},
   "source": [
    "### Q21 b) Check Whether the Adipose Tissue (AT) and Waist Circumference(Waist)  from wc-at data set  follows Normal Distribution "
   ]
  },
  {
   "cell_type": "code",
   "execution_count": 13,
   "id": "c7db7137",
   "metadata": {},
   "outputs": [
    {
     "data": {
      "text/html": [
       "<div>\n",
       "<style scoped>\n",
       "    .dataframe tbody tr th:only-of-type {\n",
       "        vertical-align: middle;\n",
       "    }\n",
       "\n",
       "    .dataframe tbody tr th {\n",
       "        vertical-align: top;\n",
       "    }\n",
       "\n",
       "    .dataframe thead th {\n",
       "        text-align: right;\n",
       "    }\n",
       "</style>\n",
       "<table border=\"1\" class=\"dataframe\">\n",
       "  <thead>\n",
       "    <tr style=\"text-align: right;\">\n",
       "      <th></th>\n",
       "      <th>Waist</th>\n",
       "      <th>AT</th>\n",
       "    </tr>\n",
       "  </thead>\n",
       "  <tbody>\n",
       "    <tr>\n",
       "      <th>0</th>\n",
       "      <td>74.75</td>\n",
       "      <td>25.72</td>\n",
       "    </tr>\n",
       "    <tr>\n",
       "      <th>1</th>\n",
       "      <td>72.60</td>\n",
       "      <td>25.89</td>\n",
       "    </tr>\n",
       "    <tr>\n",
       "      <th>2</th>\n",
       "      <td>81.80</td>\n",
       "      <td>42.60</td>\n",
       "    </tr>\n",
       "    <tr>\n",
       "      <th>3</th>\n",
       "      <td>83.95</td>\n",
       "      <td>42.80</td>\n",
       "    </tr>\n",
       "    <tr>\n",
       "      <th>4</th>\n",
       "      <td>74.65</td>\n",
       "      <td>29.84</td>\n",
       "    </tr>\n",
       "  </tbody>\n",
       "</table>\n",
       "</div>"
      ],
      "text/plain": [
       "   Waist     AT\n",
       "0  74.75  25.72\n",
       "1  72.60  25.89\n",
       "2  81.80  42.60\n",
       "3  83.95  42.80\n",
       "4  74.65  29.84"
      ]
     },
     "execution_count": 13,
     "metadata": {},
     "output_type": "execute_result"
    }
   ],
   "source": [
    "b = pd.read_csv('wc-at.csv')\n",
    "b.head()"
   ]
  },
  {
   "cell_type": "code",
   "execution_count": 14,
   "id": "4724a432",
   "metadata": {},
   "outputs": [
    {
     "name": "stdout",
     "output_type": "stream",
     "text": [
      "<class 'pandas.core.frame.DataFrame'>\n",
      "RangeIndex: 109 entries, 0 to 108\n",
      "Data columns (total 2 columns):\n",
      " #   Column  Non-Null Count  Dtype  \n",
      "---  ------  --------------  -----  \n",
      " 0   Waist   109 non-null    float64\n",
      " 1   AT      109 non-null    float64\n",
      "dtypes: float64(2)\n",
      "memory usage: 1.8 KB\n"
     ]
    }
   ],
   "source": [
    "b.info()"
   ]
  },
  {
   "cell_type": "code",
   "execution_count": 15,
   "id": "a6bd34bb",
   "metadata": {},
   "outputs": [
    {
     "data": {
      "text/plain": [
       "<Axes: xlabel='Waist', ylabel='Density'>"
      ]
     },
     "execution_count": 15,
     "metadata": {},
     "output_type": "execute_result"
    },
    {
     "data": {
      "image/png": "[encoded data removed]",
      "text/plain": [
       "<Figure size 640x480 with 1 Axes>"
      ]
     },
     "metadata": {},
     "output_type": "display_data"
    }
   ],
   "source": [
    "sns.distplot(b['Waist'])"
   ]
  },
  {
   "cell_type": "code",
   "execution_count": 16,
   "id": "c9a23d45",
   "metadata": {},
   "outputs": [
    {
     "data": {
      "text/plain": [
       "<Axes: xlabel='AT', ylabel='Density'>"
      ]
     },
     "execution_count": 16,
     "metadata": {},
     "output_type": "execute_result"
    },
    {
     "data": {
      "image/png": "[encoded data removed]",
      "text/plain": [
       "<Figure size 640x480 with 1 Axes>"
      ]
     },
     "metadata": {},
     "output_type": "display_data"
    }
   ],
   "source": [
    "sns.distplot(b['AT'])"
   ]
  },
  {
   "cell_type": "markdown",
   "id": "90e0e1da",
   "metadata": {},
   "source": [
    "### Q21 b) Ans: Adipose Tissue (AT) and Waist circumference(Waist) does not follow Normal Distribution"
   ]
  },
  {
   "cell_type": "code",
   "execution_count": null,
   "id": "019e9704",
   "metadata": {},
   "outputs": [],
   "source": []
  },
  {
   "cell_type": "markdown",
   "id": "02a0c49b",
   "metadata": {},
   "source": [
    "### Q22. Calculate the Z scores of  90% confidence interval,94% confidence interval, 60% confidence interval\n",
    "###  Ans:"
   ]
  },
  {
   "cell_type": "code",
   "execution_count": 17,
   "id": "80279a16",
   "metadata": {},
   "outputs": [
    {
     "name": "stdout",
     "output_type": "stream",
     "text": [
      "Z score for 90% Conifidence Intervla = -1.6449\n"
     ]
    }
   ],
   "source": [
    "print('Z score for 90% Conifidence Intervla =',\n",
    "      np.round(stats.norm.ppf(0.05),4))"
   ]
  },
  {
   "cell_type": "code",
   "execution_count": 18,
   "id": "955224f9",
   "metadata": {},
   "outputs": [
    {
     "name": "stdout",
     "output_type": "stream",
     "text": [
      "Z score for 96% Confidence Interval= -2.0537\n"
     ]
    }
   ],
   "source": [
    "print('Z score for 96% Confidence Interval=', \n",
    "      np.round(stats.norm.ppf(0.02),4))"
   ]
  },
  {
   "cell_type": "code",
   "execution_count": 19,
   "id": "5069f499",
   "metadata": {},
   "outputs": [
    {
     "name": "stdout",
     "output_type": "stream",
     "text": [
      "Z score for 60% Confidence Interval= -0.8416\n"
     ]
    }
   ],
   "source": [
    "print('Z score for 60% Confidence Interval=', \n",
    "      np.round(stats.norm.ppf(0.2),4))"
   ]
  },
  {
   "cell_type": "code",
   "execution_count": null,
   "id": "0a34e54a",
   "metadata": {},
   "outputs": [],
   "source": []
  },
  {
   "cell_type": "markdown",
   "id": "9697a7e2",
   "metadata": {},
   "source": [
    "## Q23. Calculate the t scores of 95% confidence interval, 96% confidence interval, 99% confidence interval for sample size of 25\n"
   ]
  },
  {
   "cell_type": "markdown",
   "id": "b5485dd5",
   "metadata": {},
   "source": [
    "### Ans:"
   ]
  },
  {
   "cell_type": "code",
   "execution_count": 20,
   "id": "9148ce5d",
   "metadata": {},
   "outputs": [
    {
     "name": "stdout",
     "output_type": "stream",
     "text": [
      "t scores of 95% confidence interval= -2.0595\n"
     ]
    }
   ],
   "source": [
    "print('t scores of 95% confidence interval=',np.round(stats.t.ppf(0.025,df=25),4))"
   ]
  },
  {
   "cell_type": "code",
   "execution_count": 21,
   "id": "63031ab1",
   "metadata": {},
   "outputs": [
    {
     "name": "stdout",
     "output_type": "stream",
     "text": [
      "t scores of 96% confidence interval= -2.1666\n"
     ]
    }
   ],
   "source": [
    "print('t scores of 96% confidence interval=',np.round(stats.t.ppf(0.02,df=25),4))"
   ]
  },
  {
   "cell_type": "code",
   "execution_count": 22,
   "id": "38f858ad",
   "metadata": {},
   "outputs": [
    {
     "name": "stdout",
     "output_type": "stream",
     "text": [
      "t scores of 99% confidence interval= -2.7874\n"
     ]
    }
   ],
   "source": [
    "print('t scores of 99% confidence interval=',np.round(stats.t.ppf(0.005,df=25),4))"
   ]
  },
  {
   "cell_type": "code",
   "execution_count": null,
   "id": "c08e0111",
   "metadata": {},
   "outputs": [],
   "source": []
  },
  {
   "cell_type": "markdown",
   "id": "ddf332ea",
   "metadata": {},
   "source": [
    "# Q24\n",
    "### A Government  company claims that an average light bulb lasts 270 days. A researcher randomly selects 18 bulbs for testing. The sampled bulbs last an average of 260 days, with a standard deviation of 90 days. If the CEO's claim were true, what is the probability that 18 randomly selected bulbs would have an average life of no more than 260 days\n"
   ]
  },
  {
   "cell_type": "markdown",
   "id": "27507d88",
   "metadata": {},
   "source": [
    "### Ans:"
   ]
  },
  {
   "cell_type": "code",
   "execution_count": 23,
   "id": "c21d5392",
   "metadata": {},
   "outputs": [
    {
     "name": "stdout",
     "output_type": "stream",
     "text": [
      "t_score= -0.4714045207910317\n"
     ]
    }
   ],
   "source": [
    "#t_score = (x - pop mean) / (sample standard daviation / square root of sample size)\n",
    "t_score=(260-270)/(90/np.sqrt(18))\n",
    "print('t_score=',t_score)"
   ]
  },
  {
   "cell_type": "code",
   "execution_count": 24,
   "id": "83124d74",
   "metadata": {},
   "outputs": [
    {
     "name": "stdout",
     "output_type": "stream",
     "text": [
      "probability= 32.0\n"
     ]
    }
   ],
   "source": [
    "probability=np.round(stats.t.cdf(t_score,df=17),2)\n",
    "print('probability=',probability*100)"
   ]
  },
  {
   "cell_type": "markdown",
   "id": "5447c2e2",
   "metadata": {},
   "source": [
    "### Probability that 18 randomly selected bulbs would have an average life of no more than 260 days is 32%"
   ]
  }
 ],
 "metadata": {
  "kernelspec": {
   "display_name": "Python 3 (ipykernel)",
   "language": "python",
   "name": "python3"
  },
  "language_info": {
   "codemirror_mode": {
    "name": "ipython",
    "version": 3
   },
   "file_extension": ".py",
   "mimetype": "text/x-python",
   "name": "python",
   "nbconvert_exporter": "python",
   "pygments_lexer": "ipython3",
   "version": "3.10.9"
  }
 },
 "nbformat": 4,
 "nbformat_minor": 5
}

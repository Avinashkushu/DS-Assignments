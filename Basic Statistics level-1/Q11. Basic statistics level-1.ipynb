{
 "cells": [
  {
   "cell_type": "code",
   "execution_count": 5,
   "id": "c8dfb903",
   "metadata": {},
   "outputs": [],
   "source": [
    "import numpy as np\n",
    "import pandas as pd\n",
    "from scipy import stats\n",
    "from scipy.stats import norm"
   ]
  },
  {
   "cell_type": "code",
   "execution_count": 10,
   "id": "0cdb30f0",
   "metadata": {},
   "outputs": [
    {
     "data": {
      "text/plain": [
       "array([198.74, 201.26])"
      ]
     },
     "execution_count": 10,
     "metadata": {},
     "output_type": "execute_result"
    }
   ],
   "source": [
    "# Avg. weight of Adult in Mexico with 94% CI\n",
    "conf_94 = stats.t.interval(confidence=0.94,df=1999,loc=200,scale=30/np.sqrt(2000))\n",
    "np.round(conf_94,2)"
   ]
  },
  {
   "cell_type": "code",
   "execution_count": 13,
   "id": "d0d92482",
   "metadata": {},
   "outputs": [
    {
     "data": {
      "text/plain": [
       "array([198.62, 201.38])"
      ]
     },
     "execution_count": 13,
     "metadata": {},
     "output_type": "execute_result"
    }
   ],
   "source": [
    "# Avg. weight of Adult in mexico with 96% CI\n",
    "conf_96= stats.t.interval(confidence=0.96,df=1999,loc=200,scale=30/np.sqrt(2000))\n",
    "np.round(conf_96,2)"
   ]
  },
  {
   "cell_type": "code",
   "execution_count": 15,
   "id": "8af3645c",
   "metadata": {},
   "outputs": [
    {
     "data": {
      "text/plain": [
       "array([198.44, 201.56])"
      ]
     },
     "execution_count": 15,
     "metadata": {},
     "output_type": "execute_result"
    }
   ],
   "source": [
    "# Avg. weight of Adult in mexico with 98% CI\n",
    "conf_98= stats.t.interval(confidence=0.98,df=1999,loc=200,scale=30/np.sqrt(2000))\n",
    "np.round(conf_98,2)"
   ]
  },
  {
   "cell_type": "code",
   "execution_count": null,
   "id": "79b1ec6a",
   "metadata": {},
   "outputs": [],
   "source": []
  }
 ],
 "metadata": {
  "kernelspec": {
   "display_name": "Python 3 (ipykernel)",
   "language": "python",
   "name": "python3"
  },
  "language_info": {
   "codemirror_mode": {
    "name": "ipython",
    "version": 3
   },
   "file_extension": ".py",
   "mimetype": "text/x-python",
   "name": "python",
   "nbconvert_exporter": "python",
   "pygments_lexer": "ipython3",
   "version": "3.10.9"
  }
 },
 "nbformat": 4,
 "nbformat_minor": 5
}

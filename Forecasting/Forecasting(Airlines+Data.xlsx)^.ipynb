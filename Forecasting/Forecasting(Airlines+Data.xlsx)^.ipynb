{
 "cells": [
  {
   "cell_type": "code",
   "execution_count": 1,
   "id": "ca23a0e1",
   "metadata": {},
   "outputs": [],
   "source": [
    "#Importing libraries\n",
    "import pandas as pd\n",
    "import numpy as np\n",
    "import matplotlib.pyplot as plt\n",
    "import seaborn as sns\n",
    "import datetime as dt\n",
    "from statsmodels.tsa.seasonal import seasonal_decompose\n",
    "from statsmodels.tsa.stattools import adfuller,acf,pacf\n",
    "from statsmodels.tsa.arima_model import ARIMA\n",
    "import statsmodels.api as sm\n",
    "import statsmodels.formula.api as smf\n",
    "import statsmodels.graphics.tsaplots as tsa_plots\n",
    "from sklearn.metrics import accuracy_score,mean_squared_error\n",
    "import warnings\n",
    "warnings.filterwarnings('ignore')"
   ]
  },
  {
   "cell_type": "code",
   "execution_count": 2,
   "id": "5256fee8",
   "metadata": {},
   "outputs": [
    {
     "data": {
      "text/html": [
       "<div>\n",
       "<style scoped>\n",
       "    .dataframe tbody tr th:only-of-type {\n",
       "        vertical-align: middle;\n",
       "    }\n",
       "\n",
       "    .dataframe tbody tr th {\n",
       "        vertical-align: top;\n",
       "    }\n",
       "\n",
       "    .dataframe thead th {\n",
       "        text-align: right;\n",
       "    }\n",
       "</style>\n",
       "<table border=\"1\" class=\"dataframe\">\n",
       "  <thead>\n",
       "    <tr style=\"text-align: right;\">\n",
       "      <th></th>\n",
       "      <th>Month</th>\n",
       "      <th>Passengers</th>\n",
       "    </tr>\n",
       "  </thead>\n",
       "  <tbody>\n",
       "    <tr>\n",
       "      <th>0</th>\n",
       "      <td>1995-01-01</td>\n",
       "      <td>112</td>\n",
       "    </tr>\n",
       "    <tr>\n",
       "      <th>1</th>\n",
       "      <td>1995-02-01</td>\n",
       "      <td>118</td>\n",
       "    </tr>\n",
       "    <tr>\n",
       "      <th>2</th>\n",
       "      <td>1995-03-01</td>\n",
       "      <td>132</td>\n",
       "    </tr>\n",
       "    <tr>\n",
       "      <th>3</th>\n",
       "      <td>1995-04-01</td>\n",
       "      <td>129</td>\n",
       "    </tr>\n",
       "    <tr>\n",
       "      <th>4</th>\n",
       "      <td>1995-05-01</td>\n",
       "      <td>121</td>\n",
       "    </tr>\n",
       "    <tr>\n",
       "      <th>...</th>\n",
       "      <td>...</td>\n",
       "      <td>...</td>\n",
       "    </tr>\n",
       "    <tr>\n",
       "      <th>91</th>\n",
       "      <td>2002-08-01</td>\n",
       "      <td>405</td>\n",
       "    </tr>\n",
       "    <tr>\n",
       "      <th>92</th>\n",
       "      <td>2002-09-01</td>\n",
       "      <td>355</td>\n",
       "    </tr>\n",
       "    <tr>\n",
       "      <th>93</th>\n",
       "      <td>2002-10-01</td>\n",
       "      <td>306</td>\n",
       "    </tr>\n",
       "    <tr>\n",
       "      <th>94</th>\n",
       "      <td>2002-11-01</td>\n",
       "      <td>271</td>\n",
       "    </tr>\n",
       "    <tr>\n",
       "      <th>95</th>\n",
       "      <td>2002-12-01</td>\n",
       "      <td>306</td>\n",
       "    </tr>\n",
       "  </tbody>\n",
       "</table>\n",
       "<p>96 rows × 2 columns</p>\n",
       "</div>"
      ],
      "text/plain": [
       "        Month  Passengers\n",
       "0  1995-01-01         112\n",
       "1  1995-02-01         118\n",
       "2  1995-03-01         132\n",
       "3  1995-04-01         129\n",
       "4  1995-05-01         121\n",
       "..        ...         ...\n",
       "91 2002-08-01         405\n",
       "92 2002-09-01         355\n",
       "93 2002-10-01         306\n",
       "94 2002-11-01         271\n",
       "95 2002-12-01         306\n",
       "\n",
       "[96 rows x 2 columns]"
      ]
     },
     "execution_count": 2,
     "metadata": {},
     "output_type": "execute_result"
    }
   ],
   "source": [
    "# Importing dataset\n",
    "air= pd.read_excel('Airlines+Data.xlsx')\n",
    "air"
   ]
  },
  {
   "cell_type": "markdown",
   "id": "7a2df789",
   "metadata": {},
   "source": [
    "## EDA"
   ]
  },
  {
   "cell_type": "code",
   "execution_count": 3,
   "id": "4a13120a",
   "metadata": {},
   "outputs": [
    {
     "data": {
      "text/plain": [
       "(96, 2)"
      ]
     },
     "execution_count": 3,
     "metadata": {},
     "output_type": "execute_result"
    }
   ],
   "source": [
    "air.shape"
   ]
  },
  {
   "cell_type": "code",
   "execution_count": 4,
   "id": "de78bd1a",
   "metadata": {},
   "outputs": [
    {
     "data": {
      "text/plain": [
       "Month         datetime64[ns]\n",
       "Passengers             int64\n",
       "dtype: object"
      ]
     },
     "execution_count": 4,
     "metadata": {},
     "output_type": "execute_result"
    }
   ],
   "source": [
    "#check the datatypes\n",
    "air.dtypes"
   ]
  },
  {
   "cell_type": "code",
   "execution_count": 5,
   "id": "58cee480",
   "metadata": {},
   "outputs": [
    {
     "data": {
      "text/html": [
       "<div>\n",
       "<style scoped>\n",
       "    .dataframe tbody tr th:only-of-type {\n",
       "        vertical-align: middle;\n",
       "    }\n",
       "\n",
       "    .dataframe tbody tr th {\n",
       "        vertical-align: top;\n",
       "    }\n",
       "\n",
       "    .dataframe thead th {\n",
       "        text-align: right;\n",
       "    }\n",
       "</style>\n",
       "<table border=\"1\" class=\"dataframe\">\n",
       "  <thead>\n",
       "    <tr style=\"text-align: right;\">\n",
       "      <th></th>\n",
       "      <th>Passengers</th>\n",
       "    </tr>\n",
       "  </thead>\n",
       "  <tbody>\n",
       "    <tr>\n",
       "      <th>count</th>\n",
       "      <td>96.000000</td>\n",
       "    </tr>\n",
       "    <tr>\n",
       "      <th>mean</th>\n",
       "      <td>213.708333</td>\n",
       "    </tr>\n",
       "    <tr>\n",
       "      <th>std</th>\n",
       "      <td>71.918216</td>\n",
       "    </tr>\n",
       "    <tr>\n",
       "      <th>min</th>\n",
       "      <td>104.000000</td>\n",
       "    </tr>\n",
       "    <tr>\n",
       "      <th>25%</th>\n",
       "      <td>156.000000</td>\n",
       "    </tr>\n",
       "    <tr>\n",
       "      <th>50%</th>\n",
       "      <td>200.000000</td>\n",
       "    </tr>\n",
       "    <tr>\n",
       "      <th>75%</th>\n",
       "      <td>264.750000</td>\n",
       "    </tr>\n",
       "    <tr>\n",
       "      <th>max</th>\n",
       "      <td>413.000000</td>\n",
       "    </tr>\n",
       "  </tbody>\n",
       "</table>\n",
       "</div>"
      ],
      "text/plain": [
       "       Passengers\n",
       "count   96.000000\n",
       "mean   213.708333\n",
       "std     71.918216\n",
       "min    104.000000\n",
       "25%    156.000000\n",
       "50%    200.000000\n",
       "75%    264.750000\n",
       "max    413.000000"
      ]
     },
     "execution_count": 5,
     "metadata": {},
     "output_type": "execute_result"
    }
   ],
   "source": [
    "#check the descriptive statistics\n",
    "air.describe()"
   ]
  },
  {
   "cell_type": "code",
   "execution_count": 6,
   "id": "68bd3dcb",
   "metadata": {},
   "outputs": [
    {
     "name": "stdout",
     "output_type": "stream",
     "text": [
      "<class 'pandas.core.frame.DataFrame'>\n",
      "RangeIndex: 96 entries, 0 to 95\n",
      "Data columns (total 2 columns):\n",
      " #   Column      Non-Null Count  Dtype         \n",
      "---  ------      --------------  -----         \n",
      " 0   Month       96 non-null     datetime64[ns]\n",
      " 1   Passengers  96 non-null     int64         \n",
      "dtypes: datetime64[ns](1), int64(1)\n",
      "memory usage: 1.6 KB\n"
     ]
    }
   ],
   "source": [
    "#  information of the dataset \n",
    "air.info()"
   ]
  },
  {
   "cell_type": "code",
   "execution_count": 7,
   "id": "a730efa1",
   "metadata": {},
   "outputs": [
    {
     "data": {
      "text/plain": [
       "Month         False\n",
       "Passengers    False\n",
       "dtype: bool"
      ]
     },
     "execution_count": 7,
     "metadata": {},
     "output_type": "execute_result"
    }
   ],
   "source": [
    "# check any null values is there in the dataset\n",
    "air.isnull().any()"
   ]
  },
  {
   "cell_type": "code",
   "execution_count": 8,
   "id": "378d72c4",
   "metadata": {},
   "outputs": [
    {
     "data": {
      "text/plain": [
       "0"
      ]
     },
     "execution_count": 8,
     "metadata": {},
     "output_type": "execute_result"
    }
   ],
   "source": [
    "# check any duplicated values is there\n",
    "air.duplicated().sum()"
   ]
  },
  {
   "cell_type": "code",
   "execution_count": 9,
   "id": "9ccc2820",
   "metadata": {},
   "outputs": [],
   "source": [
    "#air[air.duplicated()]"
   ]
  },
  {
   "cell_type": "markdown",
   "id": "90eef239",
   "metadata": {},
   "source": [
    "## Data visualization"
   ]
  },
  {
   "cell_type": "code",
   "execution_count": 10,
   "id": "334f33ab",
   "metadata": {},
   "outputs": [
    {
     "data": {
      "text/plain": [
       "<Axes: xlabel='Month'>"
      ]
     },
     "execution_count": 10,
     "metadata": {},
     "output_type": "execute_result"
    },
    {
     "data": {
      "image/png": "[encoded data removed]",
      "text/plain": [
       "<Figure size 640x480 with 1 Axes>"
      ]
     },
     "metadata": {},
     "output_type": "display_data"
    }
   ],
   "source": [
    "# plot the data\n",
    "air.set_index('Month',inplace=True)\n",
    "\n",
    "air.plot()\n"
   ]
  },
  {
   "cell_type": "code",
   "execution_count": 11,
   "id": "b9f7ae46",
   "metadata": {},
   "outputs": [
    {
     "data": {
      "text/plain": [
       "array([112, 118, 132, 129, 121, 135, 148, 136, 119, 104, 115, 126, 141,\n",
       "       125, 149, 170, 158, 133, 114, 140, 145, 150, 178, 163, 172, 199,\n",
       "       184, 162, 146, 166, 171, 180, 193, 181, 183, 218, 230, 242, 209,\n",
       "       191, 194, 196, 236, 235, 229, 243, 264, 272, 237, 211, 201, 204,\n",
       "       188, 227, 234, 302, 293, 259, 203, 233, 267, 269, 270, 315, 364,\n",
       "       347, 312, 274, 278, 284, 277, 317, 313, 318, 374, 413, 405, 355,\n",
       "       306, 271], dtype=int64)"
      ]
     },
     "execution_count": 11,
     "metadata": {},
     "output_type": "execute_result"
    }
   ],
   "source": [
    "# Unique values of passangers\n",
    "air['Passengers'].unique()"
   ]
  },
  {
   "cell_type": "code",
   "execution_count": 12,
   "id": "131815db",
   "metadata": {},
   "outputs": [],
   "source": [
    "result= seasonal_decompose(air['Passengers'],model='multiplicative')"
   ]
  },
  {
   "cell_type": "code",
   "execution_count": 13,
   "id": "3fbdf4de",
   "metadata": {},
   "outputs": [
    {
     "data": {
      "text/plain": [
       "<Axes: xlabel='Month'>"
      ]
     },
     "execution_count": 13,
     "metadata": {},
     "output_type": "execute_result"
    },
    {
     "data": {
      "image/png": "[encoded data removed]",
      "text/plain": [
       "<Figure size 640x480 with 1 Axes>"
      ]
     },
     "metadata": {},
     "output_type": "display_data"
    }
   ],
   "source": [
    "#plot the seasonal duration \n",
    "result.seasonal.plot()"
   ]
  },
  {
   "cell_type": "code",
   "execution_count": 14,
   "id": "12412a44",
   "metadata": {},
   "outputs": [
    {
     "data": {
      "text/plain": [
       "<Axes: xlabel='Month'>"
      ]
     },
     "execution_count": 14,
     "metadata": {},
     "output_type": "execute_result"
    },
    {
     "data": {
      "image/png": "[encoded data removed]",
      "text/plain": [
       "<Figure size 640x480 with 1 Axes>"
      ]
     },
     "metadata": {},
     "output_type": "display_data"
    }
   ],
   "source": [
    "#plot the trend\n",
    "result.trend.plot()"
   ]
  },
  {
   "cell_type": "code",
   "execution_count": 15,
   "id": "2a0ca29a",
   "metadata": {},
   "outputs": [
    {
     "data": {
      "text/plain": [
       "<Axes: xlabel='Month'>"
      ]
     },
     "execution_count": 15,
     "metadata": {},
     "output_type": "execute_result"
    },
    {
     "data": {
      "image/png": "[encoded data removed]",
      "text/plain": [
       "<Figure size 640x480 with 1 Axes>"
      ]
     },
     "metadata": {},
     "output_type": "display_data"
    }
   ],
   "source": [
    "#plot the residuals\n",
    "result.resid.plot()"
   ]
  },
  {
   "cell_type": "code",
   "execution_count": 16,
   "id": "5f433f8c",
   "metadata": {},
   "outputs": [],
   "source": [
    "ts_data= air['Passengers']"
   ]
  },
  {
   "cell_type": "code",
   "execution_count": 17,
   "id": "037a167d",
   "metadata": {},
   "outputs": [],
   "source": [
    "# apply log on data for removing residuals\n",
    "ts_data_log= np.log(ts_data)"
   ]
  },
  {
   "cell_type": "code",
   "execution_count": 18,
   "id": "6828b146",
   "metadata": {},
   "outputs": [
    {
     "data": {
      "text/plain": [
       "[<matplotlib.lines.Line2D at 0xe0cc88ae90>]"
      ]
     },
     "execution_count": 18,
     "metadata": {},
     "output_type": "execute_result"
    },
    {
     "data": {
      "image/png": "[encoded data removed]",
      "text/plain": [
       "<Figure size 640x480 with 1 Axes>"
      ]
     },
     "metadata": {},
     "output_type": "display_data"
    }
   ],
   "source": [
    "plt.plot(ts_data_log)"
   ]
  },
  {
   "cell_type": "markdown",
   "id": "f68d6a4e",
   "metadata": {},
   "source": [
    "Now can see in the above graph data convert multiplicative into additive"
   ]
  },
  {
   "cell_type": "code",
   "execution_count": 19,
   "id": "7788ee7a",
   "metadata": {},
   "outputs": [],
   "source": [
    "#check the data is stationary or not\n",
    "def test_stationarity(timeseries):\n",
    "    \n",
    "    #Calculate rolling mean and rolling standard deviation\n",
    "    rolmean = timeseries.rolling(window = 12).mean()\n",
    "    rolstd = timeseries.rolling(window = 12).std()\n",
    "    \n",
    "    original = plt.plot(timeseries, color = 'blue', label = 'Original')\n",
    "    mean = plt.plot(rolmean, color = 'red', label = 'Rolling Mean')\n",
    "    std = plt.plot(rolstd, color = 'green', label = 'Rolling Std')\n",
    "    plt.legend(loc='best')\n",
    "    \n",
    "    \n",
    "    print('Results of Dickey-Fuller Test :\\n')\n",
    "    df_test = adfuller(timeseries)\n",
    "    my_output = pd.Series(df_test[0:4], index =['Test Statistic', 'p-value', '#Lags Used', 'Number of Observations Used'])\n",
    "    for i,j in df_test[4].items():\n",
    "        my_output['Critical Value (%s)'%i] = j\n",
    "    print(my_output)"
   ]
  },
  {
   "cell_type": "code",
   "execution_count": 20,
   "id": "0237108e",
   "metadata": {},
   "outputs": [
    {
     "name": "stdout",
     "output_type": "stream",
     "text": [
      "Results of Dickey-Fuller Test :\n",
      "\n",
      "Test Statistic                  1.340248\n",
      "p-value                         0.996825\n",
      "#Lags Used                     12.000000\n",
      "Number of Observations Used    83.000000\n",
      "Critical Value (1%)            -3.511712\n",
      "Critical Value (5%)            -2.897048\n",
      "Critical Value (10%)           -2.585713\n",
      "dtype: float64\n"
     ]
    },
    {
     "data": {
      "image/png": "[encoded data removed]",
      "text/plain": [
       "<Figure size 640x480 with 1 Axes>"
      ]
     },
     "metadata": {},
     "output_type": "display_data"
    }
   ],
   "source": [
    "test_stationarity(air['Passengers'])"
   ]
  },
  {
   "cell_type": "code",
   "execution_count": 21,
   "id": "338450de",
   "metadata": {},
   "outputs": [
    {
     "data": {
      "text/plain": [
       "[<matplotlib.lines.Line2D at 0xe0cc770760>]"
      ]
     },
     "execution_count": 21,
     "metadata": {},
     "output_type": "execute_result"
    },
    {
     "data": {
      "image/png": "[encoded data removed]",
      "text/plain": [
       "<Figure size 640x480 with 1 Axes>"
      ]
     },
     "metadata": {},
     "output_type": "display_data"
    }
   ],
   "source": [
    "#moving average is- after removing residuals using np.log(data)\n",
    "movingAverage = ts_data_log.rolling(window = 12).mean()\n",
    "movingSTD = ts_data_log.rolling(window = 12).std()\n",
    "plt.plot(ts_data_log)\n",
    "plt.plot(movingAverage,color='red')\n",
    "plt.plot(movingSTD,color='green')"
   ]
  },
  {
   "cell_type": "code",
   "execution_count": 22,
   "id": "a2abfca1",
   "metadata": {},
   "outputs": [
    {
     "data": {
      "text/plain": [
       "Month\n",
       "1995-01-01         NaN\n",
       "1995-02-01         NaN\n",
       "1995-03-01         NaN\n",
       "1995-04-01         NaN\n",
       "1995-05-01         NaN\n",
       "1995-06-01         NaN\n",
       "1995-07-01         NaN\n",
       "1995-08-01         NaN\n",
       "1995-09-01         NaN\n",
       "1995-10-01         NaN\n",
       "1995-11-01         NaN\n",
       "1995-12-01   -0.065494\n",
       "1996-01-01   -0.093449\n",
       "1996-02-01   -0.007566\n",
       "1996-03-01    0.099416\n",
       "Name: Passengers, dtype: float64"
      ]
     },
     "execution_count": 22,
     "metadata": {},
     "output_type": "execute_result"
    }
   ],
   "source": [
    "#when data is not in stationarity ap\n",
    "ts_data_log_diff = ts_data_log - movingAverage\n",
    "ts_data_log_diff.head(15)"
   ]
  },
  {
   "cell_type": "code",
   "execution_count": 23,
   "id": "7f3988c7",
   "metadata": {},
   "outputs": [
    {
     "data": {
      "text/plain": [
       "Month\n",
       "1995-12-01   -0.065494\n",
       "1996-01-01   -0.093449\n",
       "1996-02-01   -0.007566\n",
       "1996-03-01    0.099416\n",
       "1996-04-01    0.052142\n",
       "Name: Passengers, dtype: float64"
      ]
     },
     "execution_count": 23,
     "metadata": {},
     "output_type": "execute_result"
    }
   ],
   "source": [
    "ts_data_log_diff.dropna(inplace=True)\n",
    "ts_data_log_diff.head()"
   ]
  },
  {
   "cell_type": "code",
   "execution_count": 24,
   "id": "4156f3bf",
   "metadata": {},
   "outputs": [
    {
     "name": "stdout",
     "output_type": "stream",
     "text": [
      "Results of Dickey-Fuller Test :\n",
      "\n",
      "Test Statistic                 -1.910930\n",
      "p-value                         0.326937\n",
      "#Lags Used                     12.000000\n",
      "Number of Observations Used    72.000000\n",
      "Critical Value (1%)            -3.524624\n",
      "Critical Value (5%)            -2.902607\n",
      "Critical Value (10%)           -2.588679\n",
      "dtype: float64\n"
     ]
    },
    {
     "data": {
      "image/png": "[encoded data removed]",
      "text/plain": [
       "<Figure size 640x480 with 1 Axes>"
      ]
     },
     "metadata": {},
     "output_type": "display_data"
    }
   ],
   "source": [
    "test_stationarity(ts_data_log_diff)"
   ]
  },
  {
   "cell_type": "code",
   "execution_count": 25,
   "id": "d71cde9a",
   "metadata": {},
   "outputs": [
    {
     "data": {
      "image/png": "[encoded data removed]",
      "text/plain": [
       "<Figure size 640x480 with 1 Axes>"
      ]
     },
     "metadata": {},
     "output_type": "display_data"
    },
    {
     "data": {
      "image/png": "[encoded data removed]",
      "text/plain": [
       "<Figure size 640x480 with 1 Axes>"
      ]
     },
     "metadata": {},
     "output_type": "display_data"
    }
   ],
   "source": [
    "#import statsmodels.graphics.tsaplots as tsa_plots\n",
    "tsa_plots.plot_acf(air.Passengers,lags=12)\n",
    "tsa_plots.plot_pacf(air.Passengers,lags=12)\n",
    "plt.show()"
   ]
  },
  {
   "cell_type": "code",
   "execution_count": 26,
   "id": "c37db70a",
   "metadata": {},
   "outputs": [],
   "source": [
    "model = sm.tsa.arima.ARIMA(ts_data_log, order=(1,2,1))"
   ]
  },
  {
   "cell_type": "code",
   "execution_count": 27,
   "id": "0e7d016f",
   "metadata": {},
   "outputs": [],
   "source": [
    "results = model.fit()\n"
   ]
  },
  {
   "cell_type": "code",
   "execution_count": 28,
   "id": "8bd8dfb1",
   "metadata": {},
   "outputs": [
    {
     "data": {
      "text/plain": [
       "2003-01-01    5.753367\n",
       "Freq: MS, dtype: float64"
      ]
     },
     "execution_count": 28,
     "metadata": {},
     "output_type": "execute_result"
    }
   ],
   "source": [
    "results.forecast()"
   ]
  },
  {
   "cell_type": "code",
   "execution_count": 29,
   "id": "4ade6ad7",
   "metadata": {},
   "outputs": [
    {
     "data": {
      "image/png": "[encoded data removed]",
      "text/plain": [
       "<Figure size 640x480 with 1 Axes>"
      ]
     },
     "metadata": {},
     "output_type": "display_data"
    }
   ],
   "source": [
    "plt.plot(ts_data_log_diff)\n",
    "plt.plot(results.fittedvalues,color='red')\n",
    "plt.show()"
   ]
  },
  {
   "cell_type": "code",
   "execution_count": 30,
   "id": "7e349cad",
   "metadata": {},
   "outputs": [
    {
     "data": {
      "text/plain": [
       "Month\n",
       "1995-01-01    0.000000\n",
       "1995-02-01    7.077748\n",
       "1995-03-01    4.822870\n",
       "1995-04-01    4.970069\n",
       "1995-05-01    4.891698\n",
       "                ...   \n",
       "2002-08-01    6.052636\n",
       "2002-09-01    6.012270\n",
       "2002-10-01    5.859829\n",
       "2002-11-01    5.706976\n",
       "2002-12-01    5.589020\n",
       "Length: 96, dtype: float64"
      ]
     },
     "execution_count": 30,
     "metadata": {},
     "output_type": "execute_result"
    }
   ],
   "source": [
    "Arima=results.fittedvalues\n",
    "Arima"
   ]
  },
  {
   "cell_type": "code",
   "execution_count": 31,
   "id": "30dc242b",
   "metadata": {},
   "outputs": [
    {
     "data": {
      "text/html": [
       "<div>\n",
       "<style scoped>\n",
       "    .dataframe tbody tr th:only-of-type {\n",
       "        vertical-align: middle;\n",
       "    }\n",
       "\n",
       "    .dataframe tbody tr th {\n",
       "        vertical-align: top;\n",
       "    }\n",
       "\n",
       "    .dataframe thead th {\n",
       "        text-align: right;\n",
       "    }\n",
       "</style>\n",
       "<table border=\"1\" class=\"dataframe\">\n",
       "  <thead>\n",
       "    <tr style=\"text-align: right;\">\n",
       "      <th></th>\n",
       "      <th>Passengers</th>\n",
       "    </tr>\n",
       "    <tr>\n",
       "      <th>Month</th>\n",
       "      <th></th>\n",
       "    </tr>\n",
       "  </thead>\n",
       "  <tbody>\n",
       "    <tr>\n",
       "      <th>1995-01-01</th>\n",
       "      <td>112</td>\n",
       "    </tr>\n",
       "    <tr>\n",
       "      <th>1995-02-01</th>\n",
       "      <td>118</td>\n",
       "    </tr>\n",
       "    <tr>\n",
       "      <th>1995-03-01</th>\n",
       "      <td>132</td>\n",
       "    </tr>\n",
       "    <tr>\n",
       "      <th>1995-04-01</th>\n",
       "      <td>129</td>\n",
       "    </tr>\n",
       "    <tr>\n",
       "      <th>1995-05-01</th>\n",
       "      <td>121</td>\n",
       "    </tr>\n",
       "  </tbody>\n",
       "</table>\n",
       "</div>"
      ],
      "text/plain": [
       "            Passengers\n",
       "Month                 \n",
       "1995-01-01         112\n",
       "1995-02-01         118\n",
       "1995-03-01         132\n",
       "1995-04-01         129\n",
       "1995-05-01         121"
      ]
     },
     "execution_count": 31,
     "metadata": {},
     "output_type": "execute_result"
    }
   ],
   "source": [
    "air.head()"
   ]
  },
  {
   "cell_type": "code",
   "execution_count": 32,
   "id": "aed6d676",
   "metadata": {},
   "outputs": [
    {
     "data": {
      "text/html": [
       "<div>\n",
       "<style scoped>\n",
       "    .dataframe tbody tr th:only-of-type {\n",
       "        vertical-align: middle;\n",
       "    }\n",
       "\n",
       "    .dataframe tbody tr th {\n",
       "        vertical-align: top;\n",
       "    }\n",
       "\n",
       "    .dataframe thead th {\n",
       "        text-align: right;\n",
       "    }\n",
       "</style>\n",
       "<table border=\"1\" class=\"dataframe\">\n",
       "  <thead>\n",
       "    <tr style=\"text-align: right;\">\n",
       "      <th></th>\n",
       "      <th>Passengers</th>\n",
       "      <th>T</th>\n",
       "      <th>ts_data_log</th>\n",
       "      <th>ts_data_log_diff</th>\n",
       "      <th>Arima</th>\n",
       "    </tr>\n",
       "    <tr>\n",
       "      <th>Month</th>\n",
       "      <th></th>\n",
       "      <th></th>\n",
       "      <th></th>\n",
       "      <th></th>\n",
       "      <th></th>\n",
       "    </tr>\n",
       "  </thead>\n",
       "  <tbody>\n",
       "    <tr>\n",
       "      <th>1995-01-01</th>\n",
       "      <td>112</td>\n",
       "      <td>1</td>\n",
       "      <td>4.718499</td>\n",
       "      <td>NaN</td>\n",
       "      <td>0.000000</td>\n",
       "    </tr>\n",
       "    <tr>\n",
       "      <th>1995-02-01</th>\n",
       "      <td>118</td>\n",
       "      <td>2</td>\n",
       "      <td>4.770685</td>\n",
       "      <td>NaN</td>\n",
       "      <td>7.077748</td>\n",
       "    </tr>\n",
       "    <tr>\n",
       "      <th>1995-03-01</th>\n",
       "      <td>132</td>\n",
       "      <td>3</td>\n",
       "      <td>4.882802</td>\n",
       "      <td>NaN</td>\n",
       "      <td>4.822870</td>\n",
       "    </tr>\n",
       "    <tr>\n",
       "      <th>1995-04-01</th>\n",
       "      <td>129</td>\n",
       "      <td>4</td>\n",
       "      <td>4.859812</td>\n",
       "      <td>NaN</td>\n",
       "      <td>4.970069</td>\n",
       "    </tr>\n",
       "    <tr>\n",
       "      <th>1995-05-01</th>\n",
       "      <td>121</td>\n",
       "      <td>5</td>\n",
       "      <td>4.795791</td>\n",
       "      <td>NaN</td>\n",
       "      <td>4.891698</td>\n",
       "    </tr>\n",
       "    <tr>\n",
       "      <th>...</th>\n",
       "      <td>...</td>\n",
       "      <td>...</td>\n",
       "      <td>...</td>\n",
       "      <td>...</td>\n",
       "      <td>...</td>\n",
       "    </tr>\n",
       "    <tr>\n",
       "      <th>2002-08-01</th>\n",
       "      <td>405</td>\n",
       "      <td>92</td>\n",
       "      <td>6.003887</td>\n",
       "      <td>0.258591</td>\n",
       "      <td>6.052636</td>\n",
       "    </tr>\n",
       "    <tr>\n",
       "      <th>2002-09-01</th>\n",
       "      <td>355</td>\n",
       "      <td>93</td>\n",
       "      <td>5.872118</td>\n",
       "      <td>0.116062</td>\n",
       "      <td>6.012270</td>\n",
       "    </tr>\n",
       "    <tr>\n",
       "      <th>2002-10-01</th>\n",
       "      <td>306</td>\n",
       "      <td>94</td>\n",
       "      <td>5.723585</td>\n",
       "      <td>-0.041675</td>\n",
       "      <td>5.859829</td>\n",
       "    </tr>\n",
       "    <tr>\n",
       "      <th>2002-11-01</th>\n",
       "      <td>271</td>\n",
       "      <td>95</td>\n",
       "      <td>5.602119</td>\n",
       "      <td>-0.174313</td>\n",
       "      <td>5.706976</td>\n",
       "    </tr>\n",
       "    <tr>\n",
       "      <th>2002-12-01</th>\n",
       "      <td>306</td>\n",
       "      <td>96</td>\n",
       "      <td>5.723585</td>\n",
       "      <td>-0.060844</td>\n",
       "      <td>5.589020</td>\n",
       "    </tr>\n",
       "  </tbody>\n",
       "</table>\n",
       "<p>96 rows × 5 columns</p>\n",
       "</div>"
      ],
      "text/plain": [
       "            Passengers   T  ts_data_log  ts_data_log_diff     Arima\n",
       "Month                                                              \n",
       "1995-01-01         112   1     4.718499               NaN  0.000000\n",
       "1995-02-01         118   2     4.770685               NaN  7.077748\n",
       "1995-03-01         132   3     4.882802               NaN  4.822870\n",
       "1995-04-01         129   4     4.859812               NaN  4.970069\n",
       "1995-05-01         121   5     4.795791               NaN  4.891698\n",
       "...                ...  ..          ...               ...       ...\n",
       "2002-08-01         405  92     6.003887          0.258591  6.052636\n",
       "2002-09-01         355  93     5.872118          0.116062  6.012270\n",
       "2002-10-01         306  94     5.723585         -0.041675  5.859829\n",
       "2002-11-01         271  95     5.602119         -0.174313  5.706976\n",
       "2002-12-01         306  96     5.723585         -0.060844  5.589020\n",
       "\n",
       "[96 rows x 5 columns]"
      ]
     },
     "execution_count": 32,
     "metadata": {},
     "output_type": "execute_result"
    }
   ],
   "source": [
    "air['T']=np.arange(1,97)\n",
    "air['ts_data_log']=ts_data_log\n",
    "air['ts_data_log_diff']=ts_data_log_diff\n",
    "air['Arima']=Arima\n",
    "air"
   ]
  },
  {
   "cell_type": "code",
   "execution_count": 33,
   "id": "fcbea7cb",
   "metadata": {},
   "outputs": [
    {
     "data": {
      "text/html": [
       "<div>\n",
       "<style scoped>\n",
       "    .dataframe tbody tr th:only-of-type {\n",
       "        vertical-align: middle;\n",
       "    }\n",
       "\n",
       "    .dataframe tbody tr th {\n",
       "        vertical-align: top;\n",
       "    }\n",
       "\n",
       "    .dataframe thead th {\n",
       "        text-align: right;\n",
       "    }\n",
       "</style>\n",
       "<table border=\"1\" class=\"dataframe\">\n",
       "  <thead>\n",
       "    <tr style=\"text-align: right;\">\n",
       "      <th></th>\n",
       "      <th>Month</th>\n",
       "      <th>Passengers</th>\n",
       "      <th>T</th>\n",
       "      <th>ts_data_log</th>\n",
       "      <th>ts_data_log_diff</th>\n",
       "      <th>Arima</th>\n",
       "    </tr>\n",
       "  </thead>\n",
       "  <tbody>\n",
       "    <tr>\n",
       "      <th>0</th>\n",
       "      <td>1995-01-01</td>\n",
       "      <td>112</td>\n",
       "      <td>1</td>\n",
       "      <td>4.718499</td>\n",
       "      <td>NaN</td>\n",
       "      <td>0.000000</td>\n",
       "    </tr>\n",
       "    <tr>\n",
       "      <th>1</th>\n",
       "      <td>1995-02-01</td>\n",
       "      <td>118</td>\n",
       "      <td>2</td>\n",
       "      <td>4.770685</td>\n",
       "      <td>NaN</td>\n",
       "      <td>7.077748</td>\n",
       "    </tr>\n",
       "    <tr>\n",
       "      <th>2</th>\n",
       "      <td>1995-03-01</td>\n",
       "      <td>132</td>\n",
       "      <td>3</td>\n",
       "      <td>4.882802</td>\n",
       "      <td>NaN</td>\n",
       "      <td>4.822870</td>\n",
       "    </tr>\n",
       "    <tr>\n",
       "      <th>3</th>\n",
       "      <td>1995-04-01</td>\n",
       "      <td>129</td>\n",
       "      <td>4</td>\n",
       "      <td>4.859812</td>\n",
       "      <td>NaN</td>\n",
       "      <td>4.970069</td>\n",
       "    </tr>\n",
       "    <tr>\n",
       "      <th>4</th>\n",
       "      <td>1995-05-01</td>\n",
       "      <td>121</td>\n",
       "      <td>5</td>\n",
       "      <td>4.795791</td>\n",
       "      <td>NaN</td>\n",
       "      <td>4.891698</td>\n",
       "    </tr>\n",
       "    <tr>\n",
       "      <th>...</th>\n",
       "      <td>...</td>\n",
       "      <td>...</td>\n",
       "      <td>...</td>\n",
       "      <td>...</td>\n",
       "      <td>...</td>\n",
       "      <td>...</td>\n",
       "    </tr>\n",
       "    <tr>\n",
       "      <th>91</th>\n",
       "      <td>2002-08-01</td>\n",
       "      <td>405</td>\n",
       "      <td>92</td>\n",
       "      <td>6.003887</td>\n",
       "      <td>0.258591</td>\n",
       "      <td>6.052636</td>\n",
       "    </tr>\n",
       "    <tr>\n",
       "      <th>92</th>\n",
       "      <td>2002-09-01</td>\n",
       "      <td>355</td>\n",
       "      <td>93</td>\n",
       "      <td>5.872118</td>\n",
       "      <td>0.116062</td>\n",
       "      <td>6.012270</td>\n",
       "    </tr>\n",
       "    <tr>\n",
       "      <th>93</th>\n",
       "      <td>2002-10-01</td>\n",
       "      <td>306</td>\n",
       "      <td>94</td>\n",
       "      <td>5.723585</td>\n",
       "      <td>-0.041675</td>\n",
       "      <td>5.859829</td>\n",
       "    </tr>\n",
       "    <tr>\n",
       "      <th>94</th>\n",
       "      <td>2002-11-01</td>\n",
       "      <td>271</td>\n",
       "      <td>95</td>\n",
       "      <td>5.602119</td>\n",
       "      <td>-0.174313</td>\n",
       "      <td>5.706976</td>\n",
       "    </tr>\n",
       "    <tr>\n",
       "      <th>95</th>\n",
       "      <td>2002-12-01</td>\n",
       "      <td>306</td>\n",
       "      <td>96</td>\n",
       "      <td>5.723585</td>\n",
       "      <td>-0.060844</td>\n",
       "      <td>5.589020</td>\n",
       "    </tr>\n",
       "  </tbody>\n",
       "</table>\n",
       "<p>96 rows × 6 columns</p>\n",
       "</div>"
      ],
      "text/plain": [
       "        Month  Passengers   T  ts_data_log  ts_data_log_diff     Arima\n",
       "0  1995-01-01         112   1     4.718499               NaN  0.000000\n",
       "1  1995-02-01         118   2     4.770685               NaN  7.077748\n",
       "2  1995-03-01         132   3     4.882802               NaN  4.822870\n",
       "3  1995-04-01         129   4     4.859812               NaN  4.970069\n",
       "4  1995-05-01         121   5     4.795791               NaN  4.891698\n",
       "..        ...         ...  ..          ...               ...       ...\n",
       "91 2002-08-01         405  92     6.003887          0.258591  6.052636\n",
       "92 2002-09-01         355  93     5.872118          0.116062  6.012270\n",
       "93 2002-10-01         306  94     5.723585         -0.041675  5.859829\n",
       "94 2002-11-01         271  95     5.602119         -0.174313  5.706976\n",
       "95 2002-12-01         306  96     5.723585         -0.060844  5.589020\n",
       "\n",
       "[96 rows x 6 columns]"
      ]
     },
     "execution_count": 33,
     "metadata": {},
     "output_type": "execute_result"
    }
   ],
   "source": [
    "air.reset_index(inplace=True)\n",
    "air"
   ]
  },
  {
   "cell_type": "code",
   "execution_count": 34,
   "id": "a401febf",
   "metadata": {},
   "outputs": [
    {
     "data": {
      "text/html": [
       "<div>\n",
       "<style scoped>\n",
       "    .dataframe tbody tr th:only-of-type {\n",
       "        vertical-align: middle;\n",
       "    }\n",
       "\n",
       "    .dataframe tbody tr th {\n",
       "        vertical-align: top;\n",
       "    }\n",
       "\n",
       "    .dataframe thead th {\n",
       "        text-align: right;\n",
       "    }\n",
       "</style>\n",
       "<table border=\"1\" class=\"dataframe\">\n",
       "  <thead>\n",
       "    <tr style=\"text-align: right;\">\n",
       "      <th></th>\n",
       "      <th>Month</th>\n",
       "      <th>Passengers</th>\n",
       "      <th>T</th>\n",
       "      <th>ts_data_log</th>\n",
       "      <th>ts_data_log_diff</th>\n",
       "      <th>Arima</th>\n",
       "      <th>month</th>\n",
       "    </tr>\n",
       "  </thead>\n",
       "  <tbody>\n",
       "    <tr>\n",
       "      <th>0</th>\n",
       "      <td>1995-01-01</td>\n",
       "      <td>112</td>\n",
       "      <td>1</td>\n",
       "      <td>4.718499</td>\n",
       "      <td>NaN</td>\n",
       "      <td>0.000000</td>\n",
       "      <td>Jan</td>\n",
       "    </tr>\n",
       "    <tr>\n",
       "      <th>1</th>\n",
       "      <td>1995-02-01</td>\n",
       "      <td>118</td>\n",
       "      <td>2</td>\n",
       "      <td>4.770685</td>\n",
       "      <td>NaN</td>\n",
       "      <td>7.077748</td>\n",
       "      <td>Feb</td>\n",
       "    </tr>\n",
       "    <tr>\n",
       "      <th>2</th>\n",
       "      <td>1995-03-01</td>\n",
       "      <td>132</td>\n",
       "      <td>3</td>\n",
       "      <td>4.882802</td>\n",
       "      <td>NaN</td>\n",
       "      <td>4.822870</td>\n",
       "      <td>Mar</td>\n",
       "    </tr>\n",
       "    <tr>\n",
       "      <th>3</th>\n",
       "      <td>1995-04-01</td>\n",
       "      <td>129</td>\n",
       "      <td>4</td>\n",
       "      <td>4.859812</td>\n",
       "      <td>NaN</td>\n",
       "      <td>4.970069</td>\n",
       "      <td>Apr</td>\n",
       "    </tr>\n",
       "    <tr>\n",
       "      <th>4</th>\n",
       "      <td>1995-05-01</td>\n",
       "      <td>121</td>\n",
       "      <td>5</td>\n",
       "      <td>4.795791</td>\n",
       "      <td>NaN</td>\n",
       "      <td>4.891698</td>\n",
       "      <td>May</td>\n",
       "    </tr>\n",
       "  </tbody>\n",
       "</table>\n",
       "</div>"
      ],
      "text/plain": [
       "       Month  Passengers  T  ts_data_log  ts_data_log_diff     Arima month\n",
       "0 1995-01-01         112  1     4.718499               NaN  0.000000   Jan\n",
       "1 1995-02-01         118  2     4.770685               NaN  7.077748   Feb\n",
       "2 1995-03-01         132  3     4.882802               NaN  4.822870   Mar\n",
       "3 1995-04-01         129  4     4.859812               NaN  4.970069   Apr\n",
       "4 1995-05-01         121  5     4.795791               NaN  4.891698   May"
      ]
     },
     "execution_count": 34,
     "metadata": {},
     "output_type": "execute_result"
    }
   ],
   "source": [
    "air[\"month\"] = air.Month.dt.strftime(\"%b\")\n",
    "month=pd.get_dummies(air['month'])\n",
    "air.head()"
   ]
  },
  {
   "cell_type": "code",
   "execution_count": 35,
   "id": "87993e7b",
   "metadata": {},
   "outputs": [
    {
     "data": {
      "text/html": [
       "<div>\n",
       "<style scoped>\n",
       "    .dataframe tbody tr th:only-of-type {\n",
       "        vertical-align: middle;\n",
       "    }\n",
       "\n",
       "    .dataframe tbody tr th {\n",
       "        vertical-align: top;\n",
       "    }\n",
       "\n",
       "    .dataframe thead th {\n",
       "        text-align: right;\n",
       "    }\n",
       "</style>\n",
       "<table border=\"1\" class=\"dataframe\">\n",
       "  <thead>\n",
       "    <tr style=\"text-align: right;\">\n",
       "      <th></th>\n",
       "      <th>Month</th>\n",
       "      <th>Passengers</th>\n",
       "      <th>T</th>\n",
       "      <th>ts_data_log</th>\n",
       "      <th>ts_data_log_diff</th>\n",
       "      <th>Arima</th>\n",
       "      <th>month</th>\n",
       "      <th>Apr</th>\n",
       "      <th>Aug</th>\n",
       "      <th>Dec</th>\n",
       "      <th>Feb</th>\n",
       "      <th>Jan</th>\n",
       "      <th>Jul</th>\n",
       "      <th>Jun</th>\n",
       "      <th>Mar</th>\n",
       "      <th>May</th>\n",
       "      <th>Nov</th>\n",
       "      <th>Oct</th>\n",
       "      <th>Sep</th>\n",
       "    </tr>\n",
       "  </thead>\n",
       "  <tbody>\n",
       "    <tr>\n",
       "      <th>0</th>\n",
       "      <td>1995-01-01</td>\n",
       "      <td>112</td>\n",
       "      <td>1</td>\n",
       "      <td>4.718499</td>\n",
       "      <td>NaN</td>\n",
       "      <td>0.000000</td>\n",
       "      <td>Jan</td>\n",
       "      <td>0</td>\n",
       "      <td>0</td>\n",
       "      <td>0</td>\n",
       "      <td>0</td>\n",
       "      <td>1</td>\n",
       "      <td>0</td>\n",
       "      <td>0</td>\n",
       "      <td>0</td>\n",
       "      <td>0</td>\n",
       "      <td>0</td>\n",
       "      <td>0</td>\n",
       "      <td>0</td>\n",
       "    </tr>\n",
       "    <tr>\n",
       "      <th>1</th>\n",
       "      <td>1995-02-01</td>\n",
       "      <td>118</td>\n",
       "      <td>2</td>\n",
       "      <td>4.770685</td>\n",
       "      <td>NaN</td>\n",
       "      <td>7.077748</td>\n",
       "      <td>Feb</td>\n",
       "      <td>0</td>\n",
       "      <td>0</td>\n",
       "      <td>0</td>\n",
       "      <td>1</td>\n",
       "      <td>0</td>\n",
       "      <td>0</td>\n",
       "      <td>0</td>\n",
       "      <td>0</td>\n",
       "      <td>0</td>\n",
       "      <td>0</td>\n",
       "      <td>0</td>\n",
       "      <td>0</td>\n",
       "    </tr>\n",
       "    <tr>\n",
       "      <th>2</th>\n",
       "      <td>1995-03-01</td>\n",
       "      <td>132</td>\n",
       "      <td>3</td>\n",
       "      <td>4.882802</td>\n",
       "      <td>NaN</td>\n",
       "      <td>4.822870</td>\n",
       "      <td>Mar</td>\n",
       "      <td>0</td>\n",
       "      <td>0</td>\n",
       "      <td>0</td>\n",
       "      <td>0</td>\n",
       "      <td>0</td>\n",
       "      <td>0</td>\n",
       "      <td>0</td>\n",
       "      <td>1</td>\n",
       "      <td>0</td>\n",
       "      <td>0</td>\n",
       "      <td>0</td>\n",
       "      <td>0</td>\n",
       "    </tr>\n",
       "    <tr>\n",
       "      <th>3</th>\n",
       "      <td>1995-04-01</td>\n",
       "      <td>129</td>\n",
       "      <td>4</td>\n",
       "      <td>4.859812</td>\n",
       "      <td>NaN</td>\n",
       "      <td>4.970069</td>\n",
       "      <td>Apr</td>\n",
       "      <td>1</td>\n",
       "      <td>0</td>\n",
       "      <td>0</td>\n",
       "      <td>0</td>\n",
       "      <td>0</td>\n",
       "      <td>0</td>\n",
       "      <td>0</td>\n",
       "      <td>0</td>\n",
       "      <td>0</td>\n",
       "      <td>0</td>\n",
       "      <td>0</td>\n",
       "      <td>0</td>\n",
       "    </tr>\n",
       "    <tr>\n",
       "      <th>4</th>\n",
       "      <td>1995-05-01</td>\n",
       "      <td>121</td>\n",
       "      <td>5</td>\n",
       "      <td>4.795791</td>\n",
       "      <td>NaN</td>\n",
       "      <td>4.891698</td>\n",
       "      <td>May</td>\n",
       "      <td>0</td>\n",
       "      <td>0</td>\n",
       "      <td>0</td>\n",
       "      <td>0</td>\n",
       "      <td>0</td>\n",
       "      <td>0</td>\n",
       "      <td>0</td>\n",
       "      <td>0</td>\n",
       "      <td>1</td>\n",
       "      <td>0</td>\n",
       "      <td>0</td>\n",
       "      <td>0</td>\n",
       "    </tr>\n",
       "  </tbody>\n",
       "</table>\n",
       "</div>"
      ],
      "text/plain": [
       "       Month  Passengers  T  ts_data_log  ts_data_log_diff     Arima month  \\\n",
       "0 1995-01-01         112  1     4.718499               NaN  0.000000   Jan   \n",
       "1 1995-02-01         118  2     4.770685               NaN  7.077748   Feb   \n",
       "2 1995-03-01         132  3     4.882802               NaN  4.822870   Mar   \n",
       "3 1995-04-01         129  4     4.859812               NaN  4.970069   Apr   \n",
       "4 1995-05-01         121  5     4.795791               NaN  4.891698   May   \n",
       "\n",
       "   Apr  Aug  Dec  Feb  Jan  Jul  Jun  Mar  May  Nov  Oct  Sep  \n",
       "0    0    0    0    0    1    0    0    0    0    0    0    0  \n",
       "1    0    0    0    1    0    0    0    0    0    0    0    0  \n",
       "2    0    0    0    0    0    0    0    1    0    0    0    0  \n",
       "3    1    0    0    0    0    0    0    0    0    0    0    0  \n",
       "4    0    0    0    0    0    0    0    0    1    0    0    0  "
      ]
     },
     "execution_count": 35,
     "metadata": {},
     "output_type": "execute_result"
    }
   ],
   "source": [
    "data1 = pd.concat([air,month],axis = 1)\n",
    "data1.head()"
   ]
  },
  {
   "cell_type": "code",
   "execution_count": 36,
   "id": "abc21a66",
   "metadata": {},
   "outputs": [
    {
     "data": {
      "text/html": [
       "<div>\n",
       "<style scoped>\n",
       "    .dataframe tbody tr th:only-of-type {\n",
       "        vertical-align: middle;\n",
       "    }\n",
       "\n",
       "    .dataframe tbody tr th {\n",
       "        vertical-align: top;\n",
       "    }\n",
       "\n",
       "    .dataframe thead th {\n",
       "        text-align: right;\n",
       "    }\n",
       "</style>\n",
       "<table border=\"1\" class=\"dataframe\">\n",
       "  <thead>\n",
       "    <tr style=\"text-align: right;\">\n",
       "      <th></th>\n",
       "      <th>Month</th>\n",
       "      <th>Passengers</th>\n",
       "      <th>T</th>\n",
       "      <th>ts_data_log</th>\n",
       "      <th>ts_data_log_diff</th>\n",
       "      <th>Arima</th>\n",
       "      <th>month</th>\n",
       "      <th>Apr</th>\n",
       "      <th>Aug</th>\n",
       "      <th>Dec</th>\n",
       "      <th>Feb</th>\n",
       "      <th>Jan</th>\n",
       "      <th>Jul</th>\n",
       "      <th>Jun</th>\n",
       "      <th>Mar</th>\n",
       "      <th>May</th>\n",
       "      <th>Nov</th>\n",
       "      <th>Oct</th>\n",
       "      <th>Sep</th>\n",
       "      <th>T_squared</th>\n",
       "    </tr>\n",
       "  </thead>\n",
       "  <tbody>\n",
       "    <tr>\n",
       "      <th>0</th>\n",
       "      <td>1995-01-01</td>\n",
       "      <td>112</td>\n",
       "      <td>1</td>\n",
       "      <td>4.718499</td>\n",
       "      <td>NaN</td>\n",
       "      <td>0.000000</td>\n",
       "      <td>Jan</td>\n",
       "      <td>0</td>\n",
       "      <td>0</td>\n",
       "      <td>0</td>\n",
       "      <td>0</td>\n",
       "      <td>1</td>\n",
       "      <td>0</td>\n",
       "      <td>0</td>\n",
       "      <td>0</td>\n",
       "      <td>0</td>\n",
       "      <td>0</td>\n",
       "      <td>0</td>\n",
       "      <td>0</td>\n",
       "      <td>1</td>\n",
       "    </tr>\n",
       "    <tr>\n",
       "      <th>1</th>\n",
       "      <td>1995-02-01</td>\n",
       "      <td>118</td>\n",
       "      <td>2</td>\n",
       "      <td>4.770685</td>\n",
       "      <td>NaN</td>\n",
       "      <td>7.077748</td>\n",
       "      <td>Feb</td>\n",
       "      <td>0</td>\n",
       "      <td>0</td>\n",
       "      <td>0</td>\n",
       "      <td>1</td>\n",
       "      <td>0</td>\n",
       "      <td>0</td>\n",
       "      <td>0</td>\n",
       "      <td>0</td>\n",
       "      <td>0</td>\n",
       "      <td>0</td>\n",
       "      <td>0</td>\n",
       "      <td>0</td>\n",
       "      <td>4</td>\n",
       "    </tr>\n",
       "    <tr>\n",
       "      <th>2</th>\n",
       "      <td>1995-03-01</td>\n",
       "      <td>132</td>\n",
       "      <td>3</td>\n",
       "      <td>4.882802</td>\n",
       "      <td>NaN</td>\n",
       "      <td>4.822870</td>\n",
       "      <td>Mar</td>\n",
       "      <td>0</td>\n",
       "      <td>0</td>\n",
       "      <td>0</td>\n",
       "      <td>0</td>\n",
       "      <td>0</td>\n",
       "      <td>0</td>\n",
       "      <td>0</td>\n",
       "      <td>1</td>\n",
       "      <td>0</td>\n",
       "      <td>0</td>\n",
       "      <td>0</td>\n",
       "      <td>0</td>\n",
       "      <td>9</td>\n",
       "    </tr>\n",
       "    <tr>\n",
       "      <th>3</th>\n",
       "      <td>1995-04-01</td>\n",
       "      <td>129</td>\n",
       "      <td>4</td>\n",
       "      <td>4.859812</td>\n",
       "      <td>NaN</td>\n",
       "      <td>4.970069</td>\n",
       "      <td>Apr</td>\n",
       "      <td>1</td>\n",
       "      <td>0</td>\n",
       "      <td>0</td>\n",
       "      <td>0</td>\n",
       "      <td>0</td>\n",
       "      <td>0</td>\n",
       "      <td>0</td>\n",
       "      <td>0</td>\n",
       "      <td>0</td>\n",
       "      <td>0</td>\n",
       "      <td>0</td>\n",
       "      <td>0</td>\n",
       "      <td>16</td>\n",
       "    </tr>\n",
       "    <tr>\n",
       "      <th>4</th>\n",
       "      <td>1995-05-01</td>\n",
       "      <td>121</td>\n",
       "      <td>5</td>\n",
       "      <td>4.795791</td>\n",
       "      <td>NaN</td>\n",
       "      <td>4.891698</td>\n",
       "      <td>May</td>\n",
       "      <td>0</td>\n",
       "      <td>0</td>\n",
       "      <td>0</td>\n",
       "      <td>0</td>\n",
       "      <td>0</td>\n",
       "      <td>0</td>\n",
       "      <td>0</td>\n",
       "      <td>0</td>\n",
       "      <td>1</td>\n",
       "      <td>0</td>\n",
       "      <td>0</td>\n",
       "      <td>0</td>\n",
       "      <td>25</td>\n",
       "    </tr>\n",
       "    <tr>\n",
       "      <th>...</th>\n",
       "      <td>...</td>\n",
       "      <td>...</td>\n",
       "      <td>...</td>\n",
       "      <td>...</td>\n",
       "      <td>...</td>\n",
       "      <td>...</td>\n",
       "      <td>...</td>\n",
       "      <td>...</td>\n",
       "      <td>...</td>\n",
       "      <td>...</td>\n",
       "      <td>...</td>\n",
       "      <td>...</td>\n",
       "      <td>...</td>\n",
       "      <td>...</td>\n",
       "      <td>...</td>\n",
       "      <td>...</td>\n",
       "      <td>...</td>\n",
       "      <td>...</td>\n",
       "      <td>...</td>\n",
       "      <td>...</td>\n",
       "    </tr>\n",
       "    <tr>\n",
       "      <th>91</th>\n",
       "      <td>2002-08-01</td>\n",
       "      <td>405</td>\n",
       "      <td>92</td>\n",
       "      <td>6.003887</td>\n",
       "      <td>0.258591</td>\n",
       "      <td>6.052636</td>\n",
       "      <td>Aug</td>\n",
       "      <td>0</td>\n",
       "      <td>1</td>\n",
       "      <td>0</td>\n",
       "      <td>0</td>\n",
       "      <td>0</td>\n",
       "      <td>0</td>\n",
       "      <td>0</td>\n",
       "      <td>0</td>\n",
       "      <td>0</td>\n",
       "      <td>0</td>\n",
       "      <td>0</td>\n",
       "      <td>0</td>\n",
       "      <td>8464</td>\n",
       "    </tr>\n",
       "    <tr>\n",
       "      <th>92</th>\n",
       "      <td>2002-09-01</td>\n",
       "      <td>355</td>\n",
       "      <td>93</td>\n",
       "      <td>5.872118</td>\n",
       "      <td>0.116062</td>\n",
       "      <td>6.012270</td>\n",
       "      <td>Sep</td>\n",
       "      <td>0</td>\n",
       "      <td>0</td>\n",
       "      <td>0</td>\n",
       "      <td>0</td>\n",
       "      <td>0</td>\n",
       "      <td>0</td>\n",
       "      <td>0</td>\n",
       "      <td>0</td>\n",
       "      <td>0</td>\n",
       "      <td>0</td>\n",
       "      <td>0</td>\n",
       "      <td>1</td>\n",
       "      <td>8649</td>\n",
       "    </tr>\n",
       "    <tr>\n",
       "      <th>93</th>\n",
       "      <td>2002-10-01</td>\n",
       "      <td>306</td>\n",
       "      <td>94</td>\n",
       "      <td>5.723585</td>\n",
       "      <td>-0.041675</td>\n",
       "      <td>5.859829</td>\n",
       "      <td>Oct</td>\n",
       "      <td>0</td>\n",
       "      <td>0</td>\n",
       "      <td>0</td>\n",
       "      <td>0</td>\n",
       "      <td>0</td>\n",
       "      <td>0</td>\n",
       "      <td>0</td>\n",
       "      <td>0</td>\n",
       "      <td>0</td>\n",
       "      <td>0</td>\n",
       "      <td>1</td>\n",
       "      <td>0</td>\n",
       "      <td>8836</td>\n",
       "    </tr>\n",
       "    <tr>\n",
       "      <th>94</th>\n",
       "      <td>2002-11-01</td>\n",
       "      <td>271</td>\n",
       "      <td>95</td>\n",
       "      <td>5.602119</td>\n",
       "      <td>-0.174313</td>\n",
       "      <td>5.706976</td>\n",
       "      <td>Nov</td>\n",
       "      <td>0</td>\n",
       "      <td>0</td>\n",
       "      <td>0</td>\n",
       "      <td>0</td>\n",
       "      <td>0</td>\n",
       "      <td>0</td>\n",
       "      <td>0</td>\n",
       "      <td>0</td>\n",
       "      <td>0</td>\n",
       "      <td>1</td>\n",
       "      <td>0</td>\n",
       "      <td>0</td>\n",
       "      <td>9025</td>\n",
       "    </tr>\n",
       "    <tr>\n",
       "      <th>95</th>\n",
       "      <td>2002-12-01</td>\n",
       "      <td>306</td>\n",
       "      <td>96</td>\n",
       "      <td>5.723585</td>\n",
       "      <td>-0.060844</td>\n",
       "      <td>5.589020</td>\n",
       "      <td>Dec</td>\n",
       "      <td>0</td>\n",
       "      <td>0</td>\n",
       "      <td>1</td>\n",
       "      <td>0</td>\n",
       "      <td>0</td>\n",
       "      <td>0</td>\n",
       "      <td>0</td>\n",
       "      <td>0</td>\n",
       "      <td>0</td>\n",
       "      <td>0</td>\n",
       "      <td>0</td>\n",
       "      <td>0</td>\n",
       "      <td>9216</td>\n",
       "    </tr>\n",
       "  </tbody>\n",
       "</table>\n",
       "<p>96 rows × 20 columns</p>\n",
       "</div>"
      ],
      "text/plain": [
       "        Month  Passengers   T  ts_data_log  ts_data_log_diff     Arima month  \\\n",
       "0  1995-01-01         112   1     4.718499               NaN  0.000000   Jan   \n",
       "1  1995-02-01         118   2     4.770685               NaN  7.077748   Feb   \n",
       "2  1995-03-01         132   3     4.882802               NaN  4.822870   Mar   \n",
       "3  1995-04-01         129   4     4.859812               NaN  4.970069   Apr   \n",
       "4  1995-05-01         121   5     4.795791               NaN  4.891698   May   \n",
       "..        ...         ...  ..          ...               ...       ...   ...   \n",
       "91 2002-08-01         405  92     6.003887          0.258591  6.052636   Aug   \n",
       "92 2002-09-01         355  93     5.872118          0.116062  6.012270   Sep   \n",
       "93 2002-10-01         306  94     5.723585         -0.041675  5.859829   Oct   \n",
       "94 2002-11-01         271  95     5.602119         -0.174313  5.706976   Nov   \n",
       "95 2002-12-01         306  96     5.723585         -0.060844  5.589020   Dec   \n",
       "\n",
       "    Apr  Aug  Dec  Feb  Jan  Jul  Jun  Mar  May  Nov  Oct  Sep  T_squared  \n",
       "0     0    0    0    0    1    0    0    0    0    0    0    0          1  \n",
       "1     0    0    0    1    0    0    0    0    0    0    0    0          4  \n",
       "2     0    0    0    0    0    0    0    1    0    0    0    0          9  \n",
       "3     1    0    0    0    0    0    0    0    0    0    0    0         16  \n",
       "4     0    0    0    0    0    0    0    0    1    0    0    0         25  \n",
       "..  ...  ...  ...  ...  ...  ...  ...  ...  ...  ...  ...  ...        ...  \n",
       "91    0    1    0    0    0    0    0    0    0    0    0    0       8464  \n",
       "92    0    0    0    0    0    0    0    0    0    0    0    1       8649  \n",
       "93    0    0    0    0    0    0    0    0    0    0    1    0       8836  \n",
       "94    0    0    0    0    0    0    0    0    0    1    0    0       9025  \n",
       "95    0    0    1    0    0    0    0    0    0    0    0    0       9216  \n",
       "\n",
       "[96 rows x 20 columns]"
      ]
     },
     "execution_count": 36,
     "metadata": {},
     "output_type": "execute_result"
    }
   ],
   "source": [
    "data1[\"T_squared\"] = data1[\"T\"]*data1[\"T\"]\n",
    "data1"
   ]
  },
  {
   "cell_type": "code",
   "execution_count": 37,
   "id": "9ede7898",
   "metadata": {},
   "outputs": [
    {
     "data": {
      "text/plain": [
       "<Axes: xlabel='month', ylabel='Passengers'>"
      ]
     },
     "execution_count": 37,
     "metadata": {},
     "output_type": "execute_result"
    },
    {
     "data": {
      "image/png": "[encoded data removed]",
      "text/plain": [
       "<Figure size 1200x300 with 1 Axes>"
      ]
     },
     "metadata": {},
     "output_type": "display_data"
    }
   ],
   "source": [
    "plt.figure(figsize=(12,3))\n",
    "sns.lineplot(x=\"month\",y=\"Passengers\",data=data1)"
   ]
  },
  {
   "cell_type": "code",
   "execution_count": 38,
   "id": "76680975",
   "metadata": {},
   "outputs": [],
   "source": [
    "Train = data1.head(80)\n",
    "Test = data1.tail(16)"
   ]
  },
  {
   "cell_type": "markdown",
   "id": "0b627191",
   "metadata": {},
   "source": [
    "## Linear model"
   ]
  },
  {
   "cell_type": "code",
   "execution_count": 39,
   "id": "4772a74b",
   "metadata": {},
   "outputs": [],
   "source": [
    "linear_model=smf.ols('Passengers~T',data=Train).fit()"
   ]
  },
  {
   "cell_type": "code",
   "execution_count": 40,
   "id": "55ba9597",
   "metadata": {},
   "outputs": [
    {
     "data": {
      "text/plain": [
       "47.542624067726734"
      ]
     },
     "execution_count": 40,
     "metadata": {},
     "output_type": "execute_result"
    }
   ],
   "source": [
    "linear_pred=pd.Series(linear_model.predict(pd.DataFrame(Test['T'])))\n",
    "linear_rmse=np.sqrt(mean_squared_error(Test['Passengers'],linear_pred))\n",
    "linear_rmse"
   ]
  },
  {
   "cell_type": "code",
   "execution_count": 41,
   "id": "38a224e5",
   "metadata": {},
   "outputs": [
    {
     "data": {
      "text/html": [
       "<table class=\"simpletable\">\n",
       "<caption>OLS Regression Results</caption>\n",
       "<tr>\n",
       "  <th>Dep. Variable:</th>       <td>Passengers</td>    <th>  R-squared:         </th> <td>   0.783</td>\n",
       "</tr>\n",
       "<tr>\n",
       "  <th>Model:</th>                   <td>OLS</td>       <th>  Adj. R-squared:    </th> <td>   0.780</td>\n",
       "</tr>\n",
       "<tr>\n",
       "  <th>Method:</th>             <td>Least Squares</td>  <th>  F-statistic:       </th> <td>   281.2</td>\n",
       "</tr>\n",
       "<tr>\n",
       "  <th>Date:</th>             <td>Mon, 30 Oct 2023</td> <th>  Prob (F-statistic):</th> <td>1.38e-27</td>\n",
       "</tr>\n",
       "<tr>\n",
       "  <th>Time:</th>                 <td>09:39:25</td>     <th>  Log-Likelihood:    </th> <td> -375.56</td>\n",
       "</tr>\n",
       "<tr>\n",
       "  <th>No. Observations:</th>      <td>    80</td>      <th>  AIC:               </th> <td>   755.1</td>\n",
       "</tr>\n",
       "<tr>\n",
       "  <th>Df Residuals:</th>          <td>    78</td>      <th>  BIC:               </th> <td>   759.9</td>\n",
       "</tr>\n",
       "<tr>\n",
       "  <th>Df Model:</th>              <td>     1</td>      <th>                     </th>     <td> </td>   \n",
       "</tr>\n",
       "<tr>\n",
       "  <th>Covariance Type:</th>      <td>nonrobust</td>    <th>                     </th>     <td> </td>   \n",
       "</tr>\n",
       "</table>\n",
       "<table class=\"simpletable\">\n",
       "<tr>\n",
       "      <td></td>         <th>coef</th>     <th>std err</th>      <th>t</th>      <th>P>|t|</th>  <th>[0.025</th>    <th>0.975]</th>  \n",
       "</tr>\n",
       "<tr>\n",
       "  <th>Intercept</th> <td>  105.3392</td> <td>    6.048</td> <td>   17.416</td> <td> 0.000</td> <td>   93.298</td> <td>  117.381</td>\n",
       "</tr>\n",
       "<tr>\n",
       "  <th>T</th>         <td>    2.1756</td> <td>    0.130</td> <td>   16.769</td> <td> 0.000</td> <td>    1.917</td> <td>    2.434</td>\n",
       "</tr>\n",
       "</table>\n",
       "<table class=\"simpletable\">\n",
       "<tr>\n",
       "  <th>Omnibus:</th>       <td> 5.011</td> <th>  Durbin-Watson:     </th> <td>   0.563</td>\n",
       "</tr>\n",
       "<tr>\n",
       "  <th>Prob(Omnibus):</th> <td> 0.082</td> <th>  Jarque-Bera (JB):  </th> <td>   4.256</td>\n",
       "</tr>\n",
       "<tr>\n",
       "  <th>Skew:</th>          <td> 0.463</td> <th>  Prob(JB):          </th> <td>   0.119</td>\n",
       "</tr>\n",
       "<tr>\n",
       "  <th>Kurtosis:</th>      <td> 3.649</td> <th>  Cond. No.          </th> <td>    94.2</td>\n",
       "</tr>\n",
       "</table><br/><br/>Notes:<br/>[1] Standard Errors assume that the covariance matrix of the errors is correctly specified."
      ],
      "text/plain": [
       "<class 'statsmodels.iolib.summary.Summary'>\n",
       "\"\"\"\n",
       "                            OLS Regression Results                            \n",
       "==============================================================================\n",
       "Dep. Variable:             Passengers   R-squared:                       0.783\n",
       "Model:                            OLS   Adj. R-squared:                  0.780\n",
       "Method:                 Least Squares   F-statistic:                     281.2\n",
       "Date:                Mon, 30 Oct 2023   Prob (F-statistic):           1.38e-27\n",
       "Time:                        09:39:25   Log-Likelihood:                -375.56\n",
       "No. Observations:                  80   AIC:                             755.1\n",
       "Df Residuals:                      78   BIC:                             759.9\n",
       "Df Model:                           1                                         \n",
       "Covariance Type:            nonrobust                                         \n",
       "==============================================================================\n",
       "                 coef    std err          t      P>|t|      [0.025      0.975]\n",
       "------------------------------------------------------------------------------\n",
       "Intercept    105.3392      6.048     17.416      0.000      93.298     117.381\n",
       "T              2.1756      0.130     16.769      0.000       1.917       2.434\n",
       "==============================================================================\n",
       "Omnibus:                        5.011   Durbin-Watson:                   0.563\n",
       "Prob(Omnibus):                  0.082   Jarque-Bera (JB):                4.256\n",
       "Skew:                           0.463   Prob(JB):                        0.119\n",
       "Kurtosis:                       3.649   Cond. No.                         94.2\n",
       "==============================================================================\n",
       "\n",
       "Notes:\n",
       "[1] Standard Errors assume that the covariance matrix of the errors is correctly specified.\n",
       "\"\"\""
      ]
     },
     "execution_count": 41,
     "metadata": {},
     "output_type": "execute_result"
    }
   ],
   "source": [
    "linear_model.summary()"
   ]
  },
  {
   "cell_type": "markdown",
   "id": "d38022f0",
   "metadata": {},
   "source": [
    "## Exponential Model"
   ]
  },
  {
   "cell_type": "code",
   "execution_count": 42,
   "id": "c6e254ff",
   "metadata": {},
   "outputs": [
    {
     "data": {
      "text/plain": [
       "43.79373939334322"
      ]
     },
     "execution_count": 42,
     "metadata": {},
     "output_type": "execute_result"
    }
   ],
   "source": [
    "Exp_model=smf.ols('ts_data_log~T',data=Train).fit()\n",
    "Exp_pred=pd.Series(Exp_model.predict(pd.DataFrame(Test['T'])))\n",
    "Exp_rmse=np.sqrt(mean_squared_error(Test['Passengers'],np.exp(Exp_pred)))\n",
    "Exp_rmse "
   ]
  },
  {
   "cell_type": "code",
   "execution_count": 43,
   "id": "e0c1b645",
   "metadata": {},
   "outputs": [
    {
     "data": {
      "text/html": [
       "<table class=\"simpletable\">\n",
       "<caption>OLS Regression Results</caption>\n",
       "<tr>\n",
       "  <th>Dep. Variable:</th>       <td>ts_data_log</td>   <th>  R-squared:         </th> <td>   0.818</td>\n",
       "</tr>\n",
       "<tr>\n",
       "  <th>Model:</th>                   <td>OLS</td>       <th>  Adj. R-squared:    </th> <td>   0.816</td>\n",
       "</tr>\n",
       "<tr>\n",
       "  <th>Method:</th>             <td>Least Squares</td>  <th>  F-statistic:       </th> <td>   350.9</td>\n",
       "</tr>\n",
       "<tr>\n",
       "  <th>Date:</th>             <td>Mon, 30 Oct 2023</td> <th>  Prob (F-statistic):</th> <td>1.34e-30</td>\n",
       "</tr>\n",
       "<tr>\n",
       "  <th>Time:</th>                 <td>09:39:25</td>     <th>  Log-Likelihood:    </th> <td>  53.563</td>\n",
       "</tr>\n",
       "<tr>\n",
       "  <th>No. Observations:</th>      <td>    80</td>      <th>  AIC:               </th> <td>  -103.1</td>\n",
       "</tr>\n",
       "<tr>\n",
       "  <th>Df Residuals:</th>          <td>    78</td>      <th>  BIC:               </th> <td>  -98.36</td>\n",
       "</tr>\n",
       "<tr>\n",
       "  <th>Df Model:</th>              <td>     1</td>      <th>                     </th>     <td> </td>   \n",
       "</tr>\n",
       "<tr>\n",
       "  <th>Covariance Type:</th>      <td>nonrobust</td>    <th>                     </th>     <td> </td>   \n",
       "</tr>\n",
       "</table>\n",
       "<table class=\"simpletable\">\n",
       "<tr>\n",
       "      <td></td>         <th>coef</th>     <th>std err</th>      <th>t</th>      <th>P>|t|</th>  <th>[0.025</th>    <th>0.975]</th>  \n",
       "</tr>\n",
       "<tr>\n",
       "  <th>Intercept</th> <td>    4.7621</td> <td>    0.028</td> <td>  168.169</td> <td> 0.000</td> <td>    4.706</td> <td>    4.818</td>\n",
       "</tr>\n",
       "<tr>\n",
       "  <th>T</th>         <td>    0.0114</td> <td>    0.001</td> <td>   18.731</td> <td> 0.000</td> <td>    0.010</td> <td>    0.013</td>\n",
       "</tr>\n",
       "</table>\n",
       "<table class=\"simpletable\">\n",
       "<tr>\n",
       "  <th>Omnibus:</th>       <td> 2.306</td> <th>  Durbin-Watson:     </th> <td>   0.660</td>\n",
       "</tr>\n",
       "<tr>\n",
       "  <th>Prob(Omnibus):</th> <td> 0.316</td> <th>  Jarque-Bera (JB):  </th> <td>   1.634</td>\n",
       "</tr>\n",
       "<tr>\n",
       "  <th>Skew:</th>          <td>-0.135</td> <th>  Prob(JB):          </th> <td>   0.442</td>\n",
       "</tr>\n",
       "<tr>\n",
       "  <th>Kurtosis:</th>      <td> 2.354</td> <th>  Cond. No.          </th> <td>    94.2</td>\n",
       "</tr>\n",
       "</table><br/><br/>Notes:<br/>[1] Standard Errors assume that the covariance matrix of the errors is correctly specified."
      ],
      "text/plain": [
       "<class 'statsmodels.iolib.summary.Summary'>\n",
       "\"\"\"\n",
       "                            OLS Regression Results                            \n",
       "==============================================================================\n",
       "Dep. Variable:            ts_data_log   R-squared:                       0.818\n",
       "Model:                            OLS   Adj. R-squared:                  0.816\n",
       "Method:                 Least Squares   F-statistic:                     350.9\n",
       "Date:                Mon, 30 Oct 2023   Prob (F-statistic):           1.34e-30\n",
       "Time:                        09:39:25   Log-Likelihood:                 53.563\n",
       "No. Observations:                  80   AIC:                            -103.1\n",
       "Df Residuals:                      78   BIC:                            -98.36\n",
       "Df Model:                           1                                         \n",
       "Covariance Type:            nonrobust                                         \n",
       "==============================================================================\n",
       "                 coef    std err          t      P>|t|      [0.025      0.975]\n",
       "------------------------------------------------------------------------------\n",
       "Intercept      4.7621      0.028    168.169      0.000       4.706       4.818\n",
       "T              0.0114      0.001     18.731      0.000       0.010       0.013\n",
       "==============================================================================\n",
       "Omnibus:                        2.306   Durbin-Watson:                   0.660\n",
       "Prob(Omnibus):                  0.316   Jarque-Bera (JB):                1.634\n",
       "Skew:                          -0.135   Prob(JB):                        0.442\n",
       "Kurtosis:                       2.354   Cond. No.                         94.2\n",
       "==============================================================================\n",
       "\n",
       "Notes:\n",
       "[1] Standard Errors assume that the covariance matrix of the errors is correctly specified.\n",
       "\"\"\""
      ]
     },
     "execution_count": 43,
     "metadata": {},
     "output_type": "execute_result"
    }
   ],
   "source": [
    "Exp_model.summary()"
   ]
  },
  {
   "cell_type": "markdown",
   "id": "41f63b06",
   "metadata": {},
   "source": [
    "## Arima model"
   ]
  },
  {
   "cell_type": "code",
   "execution_count": 44,
   "id": "6e92e332",
   "metadata": {},
   "outputs": [
    {
     "data": {
      "text/plain": [
       "51.814038551610096"
      ]
     },
     "execution_count": 44,
     "metadata": {},
     "output_type": "execute_result"
    }
   ],
   "source": [
    "Arima_model=smf.ols('Arima~T',data=Train).fit()\n",
    "Arima_pred=pd.Series(Arima_model.predict(Test['T']))\n",
    "Arima_rmse=np.sqrt(mean_squared_error(Test['Passengers'],np.exp(Arima_pred)))\n",
    "Arima_rmse"
   ]
  },
  {
   "cell_type": "code",
   "execution_count": 45,
   "id": "301996ea",
   "metadata": {},
   "outputs": [
    {
     "data": {
      "text/html": [
       "<table class=\"simpletable\">\n",
       "<caption>OLS Regression Results</caption>\n",
       "<tr>\n",
       "  <th>Dep. Variable:</th>          <td>Arima</td>      <th>  R-squared:         </th> <td>   0.207</td>\n",
       "</tr>\n",
       "<tr>\n",
       "  <th>Model:</th>                   <td>OLS</td>       <th>  Adj. R-squared:    </th> <td>   0.197</td>\n",
       "</tr>\n",
       "<tr>\n",
       "  <th>Method:</th>             <td>Least Squares</td>  <th>  F-statistic:       </th> <td>   20.36</td>\n",
       "</tr>\n",
       "<tr>\n",
       "  <th>Date:</th>             <td>Mon, 30 Oct 2023</td> <th>  Prob (F-statistic):</th> <td>2.23e-05</td>\n",
       "</tr>\n",
       "<tr>\n",
       "  <th>Time:</th>                 <td>09:39:25</td>     <th>  Log-Likelihood:    </th> <td> -73.307</td>\n",
       "</tr>\n",
       "<tr>\n",
       "  <th>No. Observations:</th>      <td>    80</td>      <th>  AIC:               </th> <td>   150.6</td>\n",
       "</tr>\n",
       "<tr>\n",
       "  <th>Df Residuals:</th>          <td>    78</td>      <th>  BIC:               </th> <td>   155.4</td>\n",
       "</tr>\n",
       "<tr>\n",
       "  <th>Df Model:</th>              <td>     1</td>      <th>                     </th>     <td> </td>   \n",
       "</tr>\n",
       "<tr>\n",
       "  <th>Covariance Type:</th>      <td>nonrobust</td>    <th>                     </th>     <td> </td>   \n",
       "</tr>\n",
       "</table>\n",
       "<table class=\"simpletable\">\n",
       "<tr>\n",
       "      <td></td>         <th>coef</th>     <th>std err</th>      <th>t</th>      <th>P>|t|</th>  <th>[0.025</th>    <th>0.975]</th>  \n",
       "</tr>\n",
       "<tr>\n",
       "  <th>Intercept</th> <td>    4.6523</td> <td>    0.138</td> <td>   33.642</td> <td> 0.000</td> <td>    4.377</td> <td>    4.928</td>\n",
       "</tr>\n",
       "<tr>\n",
       "  <th>T</th>         <td>    0.0134</td> <td>    0.003</td> <td>    4.513</td> <td> 0.000</td> <td>    0.007</td> <td>    0.019</td>\n",
       "</tr>\n",
       "</table>\n",
       "<table class=\"simpletable\">\n",
       "<tr>\n",
       "  <th>Omnibus:</th>       <td>125.644</td> <th>  Durbin-Watson:     </th> <td>   1.920</td>\n",
       "</tr>\n",
       "<tr>\n",
       "  <th>Prob(Omnibus):</th> <td> 0.000</td>  <th>  Jarque-Bera (JB):  </th> <td>6875.362</td>\n",
       "</tr>\n",
       "<tr>\n",
       "  <th>Skew:</th>          <td>-4.950</td>  <th>  Prob(JB):          </th> <td>    0.00</td>\n",
       "</tr>\n",
       "<tr>\n",
       "  <th>Kurtosis:</th>      <td>47.324</td>  <th>  Cond. No.          </th> <td>    94.2</td>\n",
       "</tr>\n",
       "</table><br/><br/>Notes:<br/>[1] Standard Errors assume that the covariance matrix of the errors is correctly specified."
      ],
      "text/plain": [
       "<class 'statsmodels.iolib.summary.Summary'>\n",
       "\"\"\"\n",
       "                            OLS Regression Results                            \n",
       "==============================================================================\n",
       "Dep. Variable:                  Arima   R-squared:                       0.207\n",
       "Model:                            OLS   Adj. R-squared:                  0.197\n",
       "Method:                 Least Squares   F-statistic:                     20.36\n",
       "Date:                Mon, 30 Oct 2023   Prob (F-statistic):           2.23e-05\n",
       "Time:                        09:39:25   Log-Likelihood:                -73.307\n",
       "No. Observations:                  80   AIC:                             150.6\n",
       "Df Residuals:                      78   BIC:                             155.4\n",
       "Df Model:                           1                                         \n",
       "Covariance Type:            nonrobust                                         \n",
       "==============================================================================\n",
       "                 coef    std err          t      P>|t|      [0.025      0.975]\n",
       "------------------------------------------------------------------------------\n",
       "Intercept      4.6523      0.138     33.642      0.000       4.377       4.928\n",
       "T              0.0134      0.003      4.513      0.000       0.007       0.019\n",
       "==============================================================================\n",
       "Omnibus:                      125.644   Durbin-Watson:                   1.920\n",
       "Prob(Omnibus):                  0.000   Jarque-Bera (JB):             6875.362\n",
       "Skew:                          -4.950   Prob(JB):                         0.00\n",
       "Kurtosis:                      47.324   Cond. No.                         94.2\n",
       "==============================================================================\n",
       "\n",
       "Notes:\n",
       "[1] Standard Errors assume that the covariance matrix of the errors is correctly specified.\n",
       "\"\"\""
      ]
     },
     "execution_count": 45,
     "metadata": {},
     "output_type": "execute_result"
    }
   ],
   "source": [
    "Arima_model.summary()"
   ]
  },
  {
   "cell_type": "markdown",
   "id": "787f6e48",
   "metadata": {},
   "source": [
    "## Quadratic"
   ]
  },
  {
   "cell_type": "code",
   "execution_count": 46,
   "id": "67b73835",
   "metadata": {},
   "outputs": [
    {
     "data": {
      "text/plain": [
       "43.6544036958425"
      ]
     },
     "execution_count": 46,
     "metadata": {},
     "output_type": "execute_result"
    }
   ],
   "source": [
    "Quad = smf.ols('Passengers~T+T_squared',data=Train).fit()\n",
    "pred_Quad = pd.Series(Quad.predict(Test[[\"T\",\"T_squared\"]]))\n",
    "rmse_Quad =np.sqrt(mean_squared_error(Test['Passengers'],pred_Quad))\n",
    "rmse_Quad"
   ]
  },
  {
   "cell_type": "code",
   "execution_count": 47,
   "id": "b9db2709",
   "metadata": {},
   "outputs": [
    {
     "data": {
      "text/html": [
       "<table class=\"simpletable\">\n",
       "<caption>OLS Regression Results</caption>\n",
       "<tr>\n",
       "  <th>Dep. Variable:</th>       <td>Passengers</td>    <th>  R-squared:         </th> <td>   0.792</td>\n",
       "</tr>\n",
       "<tr>\n",
       "  <th>Model:</th>                   <td>OLS</td>       <th>  Adj. R-squared:    </th> <td>   0.787</td>\n",
       "</tr>\n",
       "<tr>\n",
       "  <th>Method:</th>             <td>Least Squares</td>  <th>  F-statistic:       </th> <td>   146.6</td>\n",
       "</tr>\n",
       "<tr>\n",
       "  <th>Date:</th>             <td>Mon, 30 Oct 2023</td> <th>  Prob (F-statistic):</th> <td>5.55e-27</td>\n",
       "</tr>\n",
       "<tr>\n",
       "  <th>Time:</th>                 <td>09:39:26</td>     <th>  Log-Likelihood:    </th> <td> -373.84</td>\n",
       "</tr>\n",
       "<tr>\n",
       "  <th>No. Observations:</th>      <td>    80</td>      <th>  AIC:               </th> <td>   753.7</td>\n",
       "</tr>\n",
       "<tr>\n",
       "  <th>Df Residuals:</th>          <td>    77</td>      <th>  BIC:               </th> <td>   760.8</td>\n",
       "</tr>\n",
       "<tr>\n",
       "  <th>Df Model:</th>              <td>     2</td>      <th>                     </th>     <td> </td>   \n",
       "</tr>\n",
       "<tr>\n",
       "  <th>Covariance Type:</th>      <td>nonrobust</td>    <th>                     </th>     <td> </td>   \n",
       "</tr>\n",
       "</table>\n",
       "<table class=\"simpletable\">\n",
       "<tr>\n",
       "      <td></td>         <th>coef</th>     <th>std err</th>      <th>t</th>      <th>P>|t|</th>  <th>[0.025</th>    <th>0.975]</th>  \n",
       "</tr>\n",
       "<tr>\n",
       "  <th>Intercept</th> <td>  117.9532</td> <td>    9.079</td> <td>   12.992</td> <td> 0.000</td> <td>   99.874</td> <td>  136.032</td>\n",
       "</tr>\n",
       "<tr>\n",
       "  <th>T</th>         <td>    1.2526</td> <td>    0.517</td> <td>    2.421</td> <td> 0.018</td> <td>    0.222</td> <td>    2.283</td>\n",
       "</tr>\n",
       "<tr>\n",
       "  <th>T_squared</th> <td>    0.0114</td> <td>    0.006</td> <td>    1.841</td> <td> 0.069</td> <td>   -0.001</td> <td>    0.024</td>\n",
       "</tr>\n",
       "</table>\n",
       "<table class=\"simpletable\">\n",
       "<tr>\n",
       "  <th>Omnibus:</th>       <td> 1.568</td> <th>  Durbin-Watson:     </th> <td>   0.586</td>\n",
       "</tr>\n",
       "<tr>\n",
       "  <th>Prob(Omnibus):</th> <td> 0.457</td> <th>  Jarque-Bera (JB):  </th> <td>   1.090</td>\n",
       "</tr>\n",
       "<tr>\n",
       "  <th>Skew:</th>          <td> 0.274</td> <th>  Prob(JB):          </th> <td>   0.580</td>\n",
       "</tr>\n",
       "<tr>\n",
       "  <th>Kurtosis:</th>      <td> 3.165</td> <th>  Cond. No.          </th> <td>8.96e+03</td>\n",
       "</tr>\n",
       "</table><br/><br/>Notes:<br/>[1] Standard Errors assume that the covariance matrix of the errors is correctly specified.<br/>[2] The condition number is large, 8.96e+03. This might indicate that there are<br/>strong multicollinearity or other numerical problems."
      ],
      "text/plain": [
       "<class 'statsmodels.iolib.summary.Summary'>\n",
       "\"\"\"\n",
       "                            OLS Regression Results                            \n",
       "==============================================================================\n",
       "Dep. Variable:             Passengers   R-squared:                       0.792\n",
       "Model:                            OLS   Adj. R-squared:                  0.787\n",
       "Method:                 Least Squares   F-statistic:                     146.6\n",
       "Date:                Mon, 30 Oct 2023   Prob (F-statistic):           5.55e-27\n",
       "Time:                        09:39:26   Log-Likelihood:                -373.84\n",
       "No. Observations:                  80   AIC:                             753.7\n",
       "Df Residuals:                      77   BIC:                             760.8\n",
       "Df Model:                           2                                         \n",
       "Covariance Type:            nonrobust                                         \n",
       "==============================================================================\n",
       "                 coef    std err          t      P>|t|      [0.025      0.975]\n",
       "------------------------------------------------------------------------------\n",
       "Intercept    117.9532      9.079     12.992      0.000      99.874     136.032\n",
       "T              1.2526      0.517      2.421      0.018       0.222       2.283\n",
       "T_squared      0.0114      0.006      1.841      0.069      -0.001       0.024\n",
       "==============================================================================\n",
       "Omnibus:                        1.568   Durbin-Watson:                   0.586\n",
       "Prob(Omnibus):                  0.457   Jarque-Bera (JB):                1.090\n",
       "Skew:                           0.274   Prob(JB):                        0.580\n",
       "Kurtosis:                       3.165   Cond. No.                     8.96e+03\n",
       "==============================================================================\n",
       "\n",
       "Notes:\n",
       "[1] Standard Errors assume that the covariance matrix of the errors is correctly specified.\n",
       "[2] The condition number is large, 8.96e+03. This might indicate that there are\n",
       "strong multicollinearity or other numerical problems.\n",
       "\"\"\""
      ]
     },
     "execution_count": 47,
     "metadata": {},
     "output_type": "execute_result"
    }
   ],
   "source": [
    "Quad.summary()"
   ]
  },
  {
   "cell_type": "markdown",
   "id": "bc4bacc0",
   "metadata": {},
   "source": [
    "## Multiplicative seasonality"
   ]
  },
  {
   "cell_type": "code",
   "execution_count": 48,
   "id": "1f83fa6b",
   "metadata": {},
   "outputs": [
    {
     "data": {
      "text/plain": [
       "129.26647641443307"
      ]
     },
     "execution_count": 48,
     "metadata": {},
     "output_type": "execute_result"
    }
   ],
   "source": [
    "Mult_sea = smf.ols('Passengers~Jan+Feb+Mar+Apr+May+Jun+Jul+Aug+Sep+Oct+Nov',data = Train).fit()\n",
    "pred_Mult_sea = pd.Series(Mult_sea.predict(Test[['Jan','Feb','Mar','Apr','May','Jun','Jul','Aug','Sep','Oct','Nov']]))\n",
    "rmse_Mult_sea = np.sqrt(mean_squared_error(Test['Passengers'],(pred_Mult_sea)))\n",
    "rmse_Mult_sea"
   ]
  },
  {
   "cell_type": "code",
   "execution_count": 49,
   "id": "6a731533",
   "metadata": {},
   "outputs": [
    {
     "data": {
      "text/html": [
       "<table class=\"simpletable\">\n",
       "<caption>OLS Regression Results</caption>\n",
       "<tr>\n",
       "  <th>Dep. Variable:</th>       <td>Passengers</td>    <th>  R-squared:         </th> <td>   0.212</td>\n",
       "</tr>\n",
       "<tr>\n",
       "  <th>Model:</th>                   <td>OLS</td>       <th>  Adj. R-squared:    </th> <td>   0.084</td>\n",
       "</tr>\n",
       "<tr>\n",
       "  <th>Method:</th>             <td>Least Squares</td>  <th>  F-statistic:       </th> <td>   1.661</td>\n",
       "</tr>\n",
       "<tr>\n",
       "  <th>Date:</th>             <td>Mon, 30 Oct 2023</td> <th>  Prob (F-statistic):</th>  <td> 0.102</td> \n",
       "</tr>\n",
       "<tr>\n",
       "  <th>Time:</th>                 <td>09:39:26</td>     <th>  Log-Likelihood:    </th> <td> -427.13</td>\n",
       "</tr>\n",
       "<tr>\n",
       "  <th>No. Observations:</th>      <td>    80</td>      <th>  AIC:               </th> <td>   878.3</td>\n",
       "</tr>\n",
       "<tr>\n",
       "  <th>Df Residuals:</th>          <td>    68</td>      <th>  BIC:               </th> <td>   906.9</td>\n",
       "</tr>\n",
       "<tr>\n",
       "  <th>Df Model:</th>              <td>    11</td>      <th>                     </th>     <td> </td>   \n",
       "</tr>\n",
       "<tr>\n",
       "  <th>Covariance Type:</th>      <td>nonrobust</td>    <th>                     </th>     <td> </td>   \n",
       "</tr>\n",
       "</table>\n",
       "<table class=\"simpletable\">\n",
       "<tr>\n",
       "      <td></td>         <th>coef</th>     <th>std err</th>      <th>t</th>      <th>P>|t|</th>  <th>[0.025</th>    <th>0.975]</th>  \n",
       "</tr>\n",
       "<tr>\n",
       "  <th>Intercept</th> <td>  174.6667</td> <td>   22.323</td> <td>    7.825</td> <td> 0.000</td> <td>  130.122</td> <td>  219.211</td>\n",
       "</tr>\n",
       "<tr>\n",
       "  <th>Jan</th>       <td>   -5.3810</td> <td>   30.421</td> <td>   -0.177</td> <td> 0.860</td> <td>  -66.085</td> <td>   55.323</td>\n",
       "</tr>\n",
       "<tr>\n",
       "  <th>Feb</th>       <td>   -4.5238</td> <td>   30.421</td> <td>   -0.149</td> <td> 0.882</td> <td>  -65.227</td> <td>   56.180</td>\n",
       "</tr>\n",
       "<tr>\n",
       "  <th>Mar</th>       <td>   22.7619</td> <td>   30.421</td> <td>    0.748</td> <td> 0.457</td> <td>  -37.942</td> <td>   83.466</td>\n",
       "</tr>\n",
       "<tr>\n",
       "  <th>Apr</th>       <td>   16.6190</td> <td>   30.421</td> <td>    0.546</td> <td> 0.587</td> <td>  -44.085</td> <td>   77.323</td>\n",
       "</tr>\n",
       "<tr>\n",
       "  <th>May</th>       <td>   15.9048</td> <td>   30.421</td> <td>    0.523</td> <td> 0.603</td> <td>  -44.799</td> <td>   76.608</td>\n",
       "</tr>\n",
       "<tr>\n",
       "  <th>Jun</th>       <td>   39.9048</td> <td>   30.421</td> <td>    1.312</td> <td> 0.194</td> <td>  -20.799</td> <td>  100.608</td>\n",
       "</tr>\n",
       "<tr>\n",
       "  <th>Jul</th>       <td>   64.9048</td> <td>   30.421</td> <td>    2.134</td> <td> 0.036</td> <td>    4.201</td> <td>  125.608</td>\n",
       "</tr>\n",
       "<tr>\n",
       "  <th>Aug</th>       <td>   64.0476</td> <td>   30.421</td> <td>    2.105</td> <td> 0.039</td> <td>    3.344</td> <td>  124.751</td>\n",
       "</tr>\n",
       "<tr>\n",
       "  <th>Sep</th>       <td>   22.5000</td> <td>   31.569</td> <td>    0.713</td> <td> 0.478</td> <td>  -40.495</td> <td>   85.495</td>\n",
       "</tr>\n",
       "<tr>\n",
       "  <th>Oct</th>       <td>   -0.5000</td> <td>   31.569</td> <td>   -0.016</td> <td> 0.987</td> <td>  -63.495</td> <td>   62.495</td>\n",
       "</tr>\n",
       "<tr>\n",
       "  <th>Nov</th>       <td>  -21.5000</td> <td>   31.569</td> <td>   -0.681</td> <td> 0.498</td> <td>  -84.495</td> <td>   41.495</td>\n",
       "</tr>\n",
       "</table>\n",
       "<table class=\"simpletable\">\n",
       "<tr>\n",
       "  <th>Omnibus:</th>       <td> 4.649</td> <th>  Durbin-Watson:     </th> <td>   0.043</td>\n",
       "</tr>\n",
       "<tr>\n",
       "  <th>Prob(Omnibus):</th> <td> 0.098</td> <th>  Jarque-Bera (JB):  </th> <td>   2.521</td>\n",
       "</tr>\n",
       "<tr>\n",
       "  <th>Skew:</th>          <td> 0.181</td> <th>  Prob(JB):          </th> <td>   0.284</td>\n",
       "</tr>\n",
       "<tr>\n",
       "  <th>Kurtosis:</th>      <td> 2.210</td> <th>  Cond. No.          </th> <td>    13.6</td>\n",
       "</tr>\n",
       "</table><br/><br/>Notes:<br/>[1] Standard Errors assume that the covariance matrix of the errors is correctly specified."
      ],
      "text/plain": [
       "<class 'statsmodels.iolib.summary.Summary'>\n",
       "\"\"\"\n",
       "                            OLS Regression Results                            \n",
       "==============================================================================\n",
       "Dep. Variable:             Passengers   R-squared:                       0.212\n",
       "Model:                            OLS   Adj. R-squared:                  0.084\n",
       "Method:                 Least Squares   F-statistic:                     1.661\n",
       "Date:                Mon, 30 Oct 2023   Prob (F-statistic):              0.102\n",
       "Time:                        09:39:26   Log-Likelihood:                -427.13\n",
       "No. Observations:                  80   AIC:                             878.3\n",
       "Df Residuals:                      68   BIC:                             906.9\n",
       "Df Model:                          11                                         \n",
       "Covariance Type:            nonrobust                                         \n",
       "==============================================================================\n",
       "                 coef    std err          t      P>|t|      [0.025      0.975]\n",
       "------------------------------------------------------------------------------\n",
       "Intercept    174.6667     22.323      7.825      0.000     130.122     219.211\n",
       "Jan           -5.3810     30.421     -0.177      0.860     -66.085      55.323\n",
       "Feb           -4.5238     30.421     -0.149      0.882     -65.227      56.180\n",
       "Mar           22.7619     30.421      0.748      0.457     -37.942      83.466\n",
       "Apr           16.6190     30.421      0.546      0.587     -44.085      77.323\n",
       "May           15.9048     30.421      0.523      0.603     -44.799      76.608\n",
       "Jun           39.9048     30.421      1.312      0.194     -20.799     100.608\n",
       "Jul           64.9048     30.421      2.134      0.036       4.201     125.608\n",
       "Aug           64.0476     30.421      2.105      0.039       3.344     124.751\n",
       "Sep           22.5000     31.569      0.713      0.478     -40.495      85.495\n",
       "Oct           -0.5000     31.569     -0.016      0.987     -63.495      62.495\n",
       "Nov          -21.5000     31.569     -0.681      0.498     -84.495      41.495\n",
       "==============================================================================\n",
       "Omnibus:                        4.649   Durbin-Watson:                   0.043\n",
       "Prob(Omnibus):                  0.098   Jarque-Bera (JB):                2.521\n",
       "Skew:                           0.181   Prob(JB):                        0.284\n",
       "Kurtosis:                       2.210   Cond. No.                         13.6\n",
       "==============================================================================\n",
       "\n",
       "Notes:\n",
       "[1] Standard Errors assume that the covariance matrix of the errors is correctly specified.\n",
       "\"\"\""
      ]
     },
     "execution_count": 49,
     "metadata": {},
     "output_type": "execute_result"
    }
   ],
   "source": [
    "Mult_sea.summary()"
   ]
  },
  {
   "cell_type": "markdown",
   "id": "3f699a82",
   "metadata": {},
   "source": [
    "## Additive seasonality"
   ]
  },
  {
   "cell_type": "code",
   "execution_count": 50,
   "id": "decc9434",
   "metadata": {},
   "outputs": [
    {
     "data": {
      "text/plain": [
       "135.32648414621102"
      ]
     },
     "execution_count": 50,
     "metadata": {},
     "output_type": "execute_result"
    }
   ],
   "source": [
    "Add_sea = smf.ols('ts_data_log~Jan+Feb+Mar+Apr+May+Jun+Jul+Aug+Sep+Oct+Nov',data = Train).fit()\n",
    "pred_Add_sea = pd.Series(Add_sea.predict(Test[['Jan','Feb','Mar','Apr','May','Jun','Jul','Aug','Sep','Oct','Nov']]))\n",
    "rmse_Add_sea = np.sqrt(mean_squared_error(Test['Passengers'],np.exp(pred_Add_sea)))\n",
    "rmse_Add_sea"
   ]
  },
  {
   "cell_type": "code",
   "execution_count": 51,
   "id": "a60f7776",
   "metadata": {},
   "outputs": [
    {
     "data": {
      "text/html": [
       "<table class=\"simpletable\">\n",
       "<caption>OLS Regression Results</caption>\n",
       "<tr>\n",
       "  <th>Dep. Variable:</th>       <td>ts_data_log</td>   <th>  R-squared:         </th> <td>   0.194</td>\n",
       "</tr>\n",
       "<tr>\n",
       "  <th>Model:</th>                   <td>OLS</td>       <th>  Adj. R-squared:    </th> <td>   0.064</td>\n",
       "</tr>\n",
       "<tr>\n",
       "  <th>Method:</th>             <td>Least Squares</td>  <th>  F-statistic:       </th> <td>   1.491</td>\n",
       "</tr>\n",
       "<tr>\n",
       "  <th>Date:</th>             <td>Mon, 30 Oct 2023</td> <th>  Prob (F-statistic):</th>  <td> 0.155</td> \n",
       "</tr>\n",
       "<tr>\n",
       "  <th>Time:</th>                 <td>09:39:26</td>     <th>  Log-Likelihood:    </th> <td> -5.9692</td>\n",
       "</tr>\n",
       "<tr>\n",
       "  <th>No. Observations:</th>      <td>    80</td>      <th>  AIC:               </th> <td>   35.94</td>\n",
       "</tr>\n",
       "<tr>\n",
       "  <th>Df Residuals:</th>          <td>    68</td>      <th>  BIC:               </th> <td>   64.52</td>\n",
       "</tr>\n",
       "<tr>\n",
       "  <th>Df Model:</th>              <td>    11</td>      <th>                     </th>     <td> </td>   \n",
       "</tr>\n",
       "<tr>\n",
       "  <th>Covariance Type:</th>      <td>nonrobust</td>    <th>                     </th>     <td> </td>   \n",
       "</tr>\n",
       "</table>\n",
       "<table class=\"simpletable\">\n",
       "<tr>\n",
       "      <td></td>         <th>coef</th>     <th>std err</th>      <th>t</th>      <th>P>|t|</th>  <th>[0.025</th>    <th>0.975]</th>  \n",
       "</tr>\n",
       "<tr>\n",
       "  <th>Intercept</th> <td>    5.1382</td> <td>    0.115</td> <td>   44.507</td> <td> 0.000</td> <td>    4.908</td> <td>    5.369</td>\n",
       "</tr>\n",
       "<tr>\n",
       "  <th>Jan</th>       <td>   -0.0429</td> <td>    0.157</td> <td>   -0.273</td> <td> 0.786</td> <td>   -0.357</td> <td>    0.271</td>\n",
       "</tr>\n",
       "<tr>\n",
       "  <th>Feb</th>       <td>   -0.0273</td> <td>    0.157</td> <td>   -0.174</td> <td> 0.863</td> <td>   -0.341</td> <td>    0.287</td>\n",
       "</tr>\n",
       "<tr>\n",
       "  <th>Mar</th>       <td>    0.1170</td> <td>    0.157</td> <td>    0.744</td> <td> 0.459</td> <td>   -0.197</td> <td>    0.431</td>\n",
       "</tr>\n",
       "<tr>\n",
       "  <th>Apr</th>       <td>    0.0813</td> <td>    0.157</td> <td>    0.517</td> <td> 0.607</td> <td>   -0.233</td> <td>    0.395</td>\n",
       "</tr>\n",
       "<tr>\n",
       "  <th>May</th>       <td>    0.0716</td> <td>    0.157</td> <td>    0.455</td> <td> 0.651</td> <td>   -0.242</td> <td>    0.386</td>\n",
       "</tr>\n",
       "<tr>\n",
       "  <th>Jun</th>       <td>    0.1900</td> <td>    0.157</td> <td>    1.207</td> <td> 0.231</td> <td>   -0.124</td> <td>    0.504</td>\n",
       "</tr>\n",
       "<tr>\n",
       "  <th>Jul</th>       <td>    0.2972</td> <td>    0.157</td> <td>    1.889</td> <td> 0.063</td> <td>   -0.017</td> <td>    0.611</td>\n",
       "</tr>\n",
       "<tr>\n",
       "  <th>Aug</th>       <td>    0.2976</td> <td>    0.157</td> <td>    1.892</td> <td> 0.063</td> <td>   -0.016</td> <td>    0.612</td>\n",
       "</tr>\n",
       "<tr>\n",
       "  <th>Sep</th>       <td>    0.1214</td> <td>    0.163</td> <td>    0.743</td> <td> 0.460</td> <td>   -0.204</td> <td>    0.447</td>\n",
       "</tr>\n",
       "<tr>\n",
       "  <th>Oct</th>       <td>   -0.0057</td> <td>    0.163</td> <td>   -0.035</td> <td> 0.972</td> <td>   -0.332</td> <td>    0.320</td>\n",
       "</tr>\n",
       "<tr>\n",
       "  <th>Nov</th>       <td>   -0.1352</td> <td>    0.163</td> <td>   -0.828</td> <td> 0.410</td> <td>   -0.461</td> <td>    0.191</td>\n",
       "</tr>\n",
       "</table>\n",
       "<table class=\"simpletable\">\n",
       "<tr>\n",
       "  <th>Omnibus:</th>       <td>31.181</td> <th>  Durbin-Watson:     </th> <td>   0.030</td>\n",
       "</tr>\n",
       "<tr>\n",
       "  <th>Prob(Omnibus):</th> <td> 0.000</td> <th>  Jarque-Bera (JB):  </th> <td>   5.582</td>\n",
       "</tr>\n",
       "<tr>\n",
       "  <th>Skew:</th>          <td>-0.157</td> <th>  Prob(JB):          </th> <td>  0.0614</td>\n",
       "</tr>\n",
       "<tr>\n",
       "  <th>Kurtosis:</th>      <td> 1.744</td> <th>  Cond. No.          </th> <td>    13.6</td>\n",
       "</tr>\n",
       "</table><br/><br/>Notes:<br/>[1] Standard Errors assume that the covariance matrix of the errors is correctly specified."
      ],
      "text/plain": [
       "<class 'statsmodels.iolib.summary.Summary'>\n",
       "\"\"\"\n",
       "                            OLS Regression Results                            \n",
       "==============================================================================\n",
       "Dep. Variable:            ts_data_log   R-squared:                       0.194\n",
       "Model:                            OLS   Adj. R-squared:                  0.064\n",
       "Method:                 Least Squares   F-statistic:                     1.491\n",
       "Date:                Mon, 30 Oct 2023   Prob (F-statistic):              0.155\n",
       "Time:                        09:39:26   Log-Likelihood:                -5.9692\n",
       "No. Observations:                  80   AIC:                             35.94\n",
       "Df Residuals:                      68   BIC:                             64.52\n",
       "Df Model:                          11                                         \n",
       "Covariance Type:            nonrobust                                         \n",
       "==============================================================================\n",
       "                 coef    std err          t      P>|t|      [0.025      0.975]\n",
       "------------------------------------------------------------------------------\n",
       "Intercept      5.1382      0.115     44.507      0.000       4.908       5.369\n",
       "Jan           -0.0429      0.157     -0.273      0.786      -0.357       0.271\n",
       "Feb           -0.0273      0.157     -0.174      0.863      -0.341       0.287\n",
       "Mar            0.1170      0.157      0.744      0.459      -0.197       0.431\n",
       "Apr            0.0813      0.157      0.517      0.607      -0.233       0.395\n",
       "May            0.0716      0.157      0.455      0.651      -0.242       0.386\n",
       "Jun            0.1900      0.157      1.207      0.231      -0.124       0.504\n",
       "Jul            0.2972      0.157      1.889      0.063      -0.017       0.611\n",
       "Aug            0.2976      0.157      1.892      0.063      -0.016       0.612\n",
       "Sep            0.1214      0.163      0.743      0.460      -0.204       0.447\n",
       "Oct           -0.0057      0.163     -0.035      0.972      -0.332       0.320\n",
       "Nov           -0.1352      0.163     -0.828      0.410      -0.461       0.191\n",
       "==============================================================================\n",
       "Omnibus:                       31.181   Durbin-Watson:                   0.030\n",
       "Prob(Omnibus):                  0.000   Jarque-Bera (JB):                5.582\n",
       "Skew:                          -0.157   Prob(JB):                       0.0614\n",
       "Kurtosis:                       1.744   Cond. No.                         13.6\n",
       "==============================================================================\n",
       "\n",
       "Notes:\n",
       "[1] Standard Errors assume that the covariance matrix of the errors is correctly specified.\n",
       "\"\"\""
      ]
     },
     "execution_count": 51,
     "metadata": {},
     "output_type": "execute_result"
    }
   ],
   "source": [
    "Add_sea.summary()"
   ]
  },
  {
   "cell_type": "markdown",
   "id": "4684a3a3",
   "metadata": {},
   "source": [
    "## Multiplicative seasonality Quadratic"
   ]
  },
  {
   "cell_type": "code",
   "execution_count": 52,
   "id": "e4535eb5",
   "metadata": {},
   "outputs": [
    {
     "data": {
      "text/plain": [
       "23.910983570106755"
      ]
     },
     "execution_count": 52,
     "metadata": {},
     "output_type": "execute_result"
    }
   ],
   "source": [
    "Mult_sea_Quad = smf.ols('Passengers~T+T_squared+Jan+Feb+Mar+Apr+May+Jun+Jul+Aug+Sep+Oct+Nov',data=Train).fit()\n",
    "pred_Mult_sea_quad = pd.Series(Mult_sea_Quad.predict(Test[['Jan','Feb','Mar','Apr','May','Jun','Jul','Aug','Sep','Oct','Nov','T','T_squared']]))\n",
    "rmse_Mult_sea_quad = np.sqrt(mean_squared_error(Test['Passengers'],(pred_Mult_sea_quad)))\n",
    "rmse_Mult_sea_quad"
   ]
  },
  {
   "cell_type": "code",
   "execution_count": 53,
   "id": "901a9efc",
   "metadata": {},
   "outputs": [
    {
     "data": {
      "text/html": [
       "<table class=\"simpletable\">\n",
       "<caption>OLS Regression Results</caption>\n",
       "<tr>\n",
       "  <th>Dep. Variable:</th>       <td>Passengers</td>    <th>  R-squared:         </th> <td>   0.957</td>\n",
       "</tr>\n",
       "<tr>\n",
       "  <th>Model:</th>                   <td>OLS</td>       <th>  Adj. R-squared:    </th> <td>   0.949</td>\n",
       "</tr>\n",
       "<tr>\n",
       "  <th>Method:</th>             <td>Least Squares</td>  <th>  F-statistic:       </th> <td>   113.5</td>\n",
       "</tr>\n",
       "<tr>\n",
       "  <th>Date:</th>             <td>Mon, 30 Oct 2023</td> <th>  Prob (F-statistic):</th> <td>7.09e-40</td>\n",
       "</tr>\n",
       "<tr>\n",
       "  <th>Time:</th>                 <td>09:39:26</td>     <th>  Log-Likelihood:    </th> <td> -310.60</td>\n",
       "</tr>\n",
       "<tr>\n",
       "  <th>No. Observations:</th>      <td>    80</td>      <th>  AIC:               </th> <td>   649.2</td>\n",
       "</tr>\n",
       "<tr>\n",
       "  <th>Df Residuals:</th>          <td>    66</td>      <th>  BIC:               </th> <td>   682.6</td>\n",
       "</tr>\n",
       "<tr>\n",
       "  <th>Df Model:</th>              <td>    13</td>      <th>                     </th>     <td> </td>   \n",
       "</tr>\n",
       "<tr>\n",
       "  <th>Covariance Type:</th>      <td>nonrobust</td>    <th>                     </th>     <td> </td>   \n",
       "</tr>\n",
       "</table>\n",
       "<table class=\"simpletable\">\n",
       "<tr>\n",
       "      <td></td>         <th>coef</th>     <th>std err</th>      <th>t</th>      <th>P>|t|</th>  <th>[0.025</th>    <th>0.975]</th>  \n",
       "</tr>\n",
       "<tr>\n",
       "  <th>Intercept</th> <td>   94.6245</td> <td>    6.987</td> <td>   13.543</td> <td> 0.000</td> <td>   80.675</td> <td>  108.574</td>\n",
       "</tr>\n",
       "<tr>\n",
       "  <th>T</th>         <td>    1.5119</td> <td>    0.256</td> <td>    5.897</td> <td> 0.000</td> <td>    1.000</td> <td>    2.024</td>\n",
       "</tr>\n",
       "<tr>\n",
       "  <th>T_squared</th> <td>    0.0076</td> <td>    0.003</td> <td>    2.468</td> <td> 0.016</td> <td>    0.001</td> <td>    0.014</td>\n",
       "</tr>\n",
       "<tr>\n",
       "  <th>Jan</th>       <td>    3.9888</td> <td>    7.220</td> <td>    0.552</td> <td> 0.582</td> <td>  -10.426</td> <td>   18.404</td>\n",
       "</tr>\n",
       "<tr>\n",
       "  <th>Feb</th>       <td>    2.7660</td> <td>    7.216</td> <td>    0.383</td> <td> 0.703</td> <td>  -11.642</td> <td>   17.174</td>\n",
       "</tr>\n",
       "<tr>\n",
       "  <th>Mar</th>       <td>   27.9566</td> <td>    7.214</td> <td>    3.876</td> <td> 0.000</td> <td>   13.554</td> <td>   42.359</td>\n",
       "</tr>\n",
       "<tr>\n",
       "  <th>Apr</th>       <td>   19.7034</td> <td>    7.212</td> <td>    2.732</td> <td> 0.008</td> <td>    5.305</td> <td>   34.102</td>\n",
       "</tr>\n",
       "<tr>\n",
       "  <th>May</th>       <td>   16.8637</td> <td>    7.211</td> <td>    2.339</td> <td> 0.022</td> <td>    2.467</td> <td>   31.261</td>\n",
       "</tr>\n",
       "<tr>\n",
       "  <th>Jun</th>       <td>   38.7231</td> <td>    7.211</td> <td>    5.370</td> <td> 0.000</td> <td>   24.326</td> <td>   53.120</td>\n",
       "</tr>\n",
       "<tr>\n",
       "  <th>Jul</th>       <td>   61.5674</td> <td>    7.212</td> <td>    8.537</td> <td> 0.000</td> <td>   47.168</td> <td>   75.967</td>\n",
       "</tr>\n",
       "<tr>\n",
       "  <th>Aug</th>       <td>   58.5394</td> <td>    7.214</td> <td>    8.114</td> <td> 0.000</td> <td>   44.136</td> <td>   72.943</td>\n",
       "</tr>\n",
       "<tr>\n",
       "  <th>Sep</th>       <td>   28.8763</td> <td>    7.469</td> <td>    3.866</td> <td> 0.000</td> <td>   13.964</td> <td>   43.789</td>\n",
       "</tr>\n",
       "<tr>\n",
       "  <th>Oct</th>       <td>    3.7660</td> <td>    7.468</td> <td>    0.504</td> <td> 0.616</td> <td>  -11.144</td> <td>   18.676</td>\n",
       "</tr>\n",
       "<tr>\n",
       "  <th>Nov</th>       <td>  -19.3594</td> <td>    7.467</td> <td>   -2.593</td> <td> 0.012</td> <td>  -34.268</td> <td>   -4.451</td>\n",
       "</tr>\n",
       "</table>\n",
       "<table class=\"simpletable\">\n",
       "<tr>\n",
       "  <th>Omnibus:</th>       <td> 3.997</td> <th>  Durbin-Watson:     </th> <td>   0.577</td>\n",
       "</tr>\n",
       "<tr>\n",
       "  <th>Prob(Omnibus):</th> <td> 0.136</td> <th>  Jarque-Bera (JB):  </th> <td>   3.754</td>\n",
       "</tr>\n",
       "<tr>\n",
       "  <th>Skew:</th>          <td> 0.261</td> <th>  Prob(JB):          </th> <td>   0.153</td>\n",
       "</tr>\n",
       "<tr>\n",
       "  <th>Kurtosis:</th>      <td> 3.924</td> <th>  Cond. No.          </th> <td>3.83e+04</td>\n",
       "</tr>\n",
       "</table><br/><br/>Notes:<br/>[1] Standard Errors assume that the covariance matrix of the errors is correctly specified.<br/>[2] The condition number is large, 3.83e+04. This might indicate that there are<br/>strong multicollinearity or other numerical problems."
      ],
      "text/plain": [
       "<class 'statsmodels.iolib.summary.Summary'>\n",
       "\"\"\"\n",
       "                            OLS Regression Results                            \n",
       "==============================================================================\n",
       "Dep. Variable:             Passengers   R-squared:                       0.957\n",
       "Model:                            OLS   Adj. R-squared:                  0.949\n",
       "Method:                 Least Squares   F-statistic:                     113.5\n",
       "Date:                Mon, 30 Oct 2023   Prob (F-statistic):           7.09e-40\n",
       "Time:                        09:39:26   Log-Likelihood:                -310.60\n",
       "No. Observations:                  80   AIC:                             649.2\n",
       "Df Residuals:                      66   BIC:                             682.6\n",
       "Df Model:                          13                                         \n",
       "Covariance Type:            nonrobust                                         \n",
       "==============================================================================\n",
       "                 coef    std err          t      P>|t|      [0.025      0.975]\n",
       "------------------------------------------------------------------------------\n",
       "Intercept     94.6245      6.987     13.543      0.000      80.675     108.574\n",
       "T              1.5119      0.256      5.897      0.000       1.000       2.024\n",
       "T_squared      0.0076      0.003      2.468      0.016       0.001       0.014\n",
       "Jan            3.9888      7.220      0.552      0.582     -10.426      18.404\n",
       "Feb            2.7660      7.216      0.383      0.703     -11.642      17.174\n",
       "Mar           27.9566      7.214      3.876      0.000      13.554      42.359\n",
       "Apr           19.7034      7.212      2.732      0.008       5.305      34.102\n",
       "May           16.8637      7.211      2.339      0.022       2.467      31.261\n",
       "Jun           38.7231      7.211      5.370      0.000      24.326      53.120\n",
       "Jul           61.5674      7.212      8.537      0.000      47.168      75.967\n",
       "Aug           58.5394      7.214      8.114      0.000      44.136      72.943\n",
       "Sep           28.8763      7.469      3.866      0.000      13.964      43.789\n",
       "Oct            3.7660      7.468      0.504      0.616     -11.144      18.676\n",
       "Nov          -19.3594      7.467     -2.593      0.012     -34.268      -4.451\n",
       "==============================================================================\n",
       "Omnibus:                        3.997   Durbin-Watson:                   0.577\n",
       "Prob(Omnibus):                  0.136   Jarque-Bera (JB):                3.754\n",
       "Skew:                           0.261   Prob(JB):                        0.153\n",
       "Kurtosis:                       3.924   Cond. No.                     3.83e+04\n",
       "==============================================================================\n",
       "\n",
       "Notes:\n",
       "[1] Standard Errors assume that the covariance matrix of the errors is correctly specified.\n",
       "[2] The condition number is large, 3.83e+04. This might indicate that there are\n",
       "strong multicollinearity or other numerical problems.\n",
       "\"\"\""
      ]
     },
     "execution_count": 53,
     "metadata": {},
     "output_type": "execute_result"
    }
   ],
   "source": [
    "Mult_sea_Quad .summary()"
   ]
  },
  {
   "cell_type": "markdown",
   "id": "5125e657",
   "metadata": {},
   "source": [
    "## Additive seasonality Quadratic"
   ]
  },
  {
   "cell_type": "code",
   "execution_count": 54,
   "id": "b63eaa64",
   "metadata": {},
   "outputs": [
    {
     "data": {
      "text/plain": [
       "23.08634854615272"
      ]
     },
     "execution_count": 54,
     "metadata": {},
     "output_type": "execute_result"
    }
   ],
   "source": [
    "add_sea_Quad = smf.ols('ts_data_log~T+T_squared+Jan+Feb+Mar+Apr+May+Jun+Jul+Aug+Sep+Oct+Nov',data=Train).fit()\n",
    "pred_add_sea_quad = pd.Series(add_sea_Quad.predict(Test[['Jan','Feb','Mar','Apr','May','Jun','Jul','Aug','Sep','Oct','Nov','T','T_squared']]))\n",
    "rmse_add_sea_quad = np.sqrt(mean_squared_error(Test['Passengers'],np.exp(pred_add_sea_quad)))\n",
    "rmse_add_sea_quad"
   ]
  },
  {
   "cell_type": "code",
   "execution_count": 55,
   "id": "bca8f577",
   "metadata": {},
   "outputs": [
    {
     "data": {
      "text/html": [
       "<table class=\"simpletable\">\n",
       "<caption>OLS Regression Results</caption>\n",
       "<tr>\n",
       "  <th>Dep. Variable:</th>       <td>ts_data_log</td>   <th>  R-squared:         </th> <td>   0.977</td>\n",
       "</tr>\n",
       "<tr>\n",
       "  <th>Model:</th>                   <td>OLS</td>       <th>  Adj. R-squared:    </th> <td>   0.972</td>\n",
       "</tr>\n",
       "<tr>\n",
       "  <th>Method:</th>             <td>Least Squares</td>  <th>  F-statistic:       </th> <td>   212.0</td>\n",
       "</tr>\n",
       "<tr>\n",
       "  <th>Date:</th>             <td>Mon, 30 Oct 2023</td> <th>  Prob (F-statistic):</th> <td>1.72e-48</td>\n",
       "</tr>\n",
       "<tr>\n",
       "  <th>Time:</th>                 <td>09:39:26</td>     <th>  Log-Likelihood:    </th> <td>  135.61</td>\n",
       "</tr>\n",
       "<tr>\n",
       "  <th>No. Observations:</th>      <td>    80</td>      <th>  AIC:               </th> <td>  -243.2</td>\n",
       "</tr>\n",
       "<tr>\n",
       "  <th>Df Residuals:</th>          <td>    66</td>      <th>  BIC:               </th> <td>  -209.9</td>\n",
       "</tr>\n",
       "<tr>\n",
       "  <th>Df Model:</th>              <td>    13</td>      <th>                     </th>     <td> </td>   \n",
       "</tr>\n",
       "<tr>\n",
       "  <th>Covariance Type:</th>      <td>nonrobust</td>    <th>                     </th>     <td> </td>   \n",
       "</tr>\n",
       "</table>\n",
       "<table class=\"simpletable\">\n",
       "<tr>\n",
       "      <td></td>         <th>coef</th>     <th>std err</th>      <th>t</th>      <th>P>|t|</th>  <th>[0.025</th>    <th>0.975]</th>  \n",
       "</tr>\n",
       "<tr>\n",
       "  <th>Intercept</th> <td>    4.6334</td> <td>    0.026</td> <td>  175.370</td> <td> 0.000</td> <td>    4.581</td> <td>    4.686</td>\n",
       "</tr>\n",
       "<tr>\n",
       "  <th>T</th>         <td>    0.0136</td> <td>    0.001</td> <td>   14.000</td> <td> 0.000</td> <td>    0.012</td> <td>    0.016</td>\n",
       "</tr>\n",
       "<tr>\n",
       "  <th>T_squared</th> <td>-2.992e-05</td> <td> 1.16e-05</td> <td>   -2.578</td> <td> 0.012</td> <td>-5.31e-05</td> <td>-6.75e-06</td>\n",
       "</tr>\n",
       "<tr>\n",
       "  <th>Jan</th>       <td>    0.0178</td> <td>    0.027</td> <td>    0.652</td> <td> 0.517</td> <td>   -0.037</td> <td>    0.072</td>\n",
       "</tr>\n",
       "<tr>\n",
       "  <th>Feb</th>       <td>    0.0221</td> <td>    0.027</td> <td>    0.809</td> <td> 0.422</td> <td>   -0.032</td> <td>    0.077</td>\n",
       "</tr>\n",
       "<tr>\n",
       "  <th>Mar</th>       <td>    0.1552</td> <td>    0.027</td> <td>    5.688</td> <td> 0.000</td> <td>    0.101</td> <td>    0.210</td>\n",
       "</tr>\n",
       "<tr>\n",
       "  <th>Apr</th>       <td>    0.1082</td> <td>    0.027</td> <td>    3.968</td> <td> 0.000</td> <td>    0.054</td> <td>    0.163</td>\n",
       "</tr>\n",
       "<tr>\n",
       "  <th>May</th>       <td>    0.0874</td> <td>    0.027</td> <td>    3.203</td> <td> 0.002</td> <td>    0.033</td> <td>    0.142</td>\n",
       "</tr>\n",
       "<tr>\n",
       "  <th>Jun</th>       <td>    0.1946</td> <td>    0.027</td> <td>    7.137</td> <td> 0.000</td> <td>    0.140</td> <td>    0.249</td>\n",
       "</tr>\n",
       "<tr>\n",
       "  <th>Jul</th>       <td>    0.2909</td> <td>    0.027</td> <td>   10.665</td> <td> 0.000</td> <td>    0.236</td> <td>    0.345</td>\n",
       "</tr>\n",
       "<tr>\n",
       "  <th>Aug</th>       <td>    0.2803</td> <td>    0.027</td> <td>   10.273</td> <td> 0.000</td> <td>    0.226</td> <td>    0.335</td>\n",
       "</tr>\n",
       "<tr>\n",
       "  <th>Sep</th>       <td>    0.1548</td> <td>    0.028</td> <td>    5.481</td> <td> 0.000</td> <td>    0.098</td> <td>    0.211</td>\n",
       "</tr>\n",
       "<tr>\n",
       "  <th>Oct</th>       <td>    0.0165</td> <td>    0.028</td> <td>    0.585</td> <td> 0.560</td> <td>   -0.040</td> <td>    0.073</td>\n",
       "</tr>\n",
       "<tr>\n",
       "  <th>Nov</th>       <td>   -0.1241</td> <td>    0.028</td> <td>   -4.396</td> <td> 0.000</td> <td>   -0.181</td> <td>   -0.068</td>\n",
       "</tr>\n",
       "</table>\n",
       "<table class=\"simpletable\">\n",
       "<tr>\n",
       "  <th>Omnibus:</th>       <td> 3.122</td> <th>  Durbin-Watson:     </th> <td>   0.712</td>\n",
       "</tr>\n",
       "<tr>\n",
       "  <th>Prob(Omnibus):</th> <td> 0.210</td> <th>  Jarque-Bera (JB):  </th> <td>   2.415</td>\n",
       "</tr>\n",
       "<tr>\n",
       "  <th>Skew:</th>          <td>-0.297</td> <th>  Prob(JB):          </th> <td>   0.299</td>\n",
       "</tr>\n",
       "<tr>\n",
       "  <th>Kurtosis:</th>      <td> 3.609</td> <th>  Cond. No.          </th> <td>3.83e+04</td>\n",
       "</tr>\n",
       "</table><br/><br/>Notes:<br/>[1] Standard Errors assume that the covariance matrix of the errors is correctly specified.<br/>[2] The condition number is large, 3.83e+04. This might indicate that there are<br/>strong multicollinearity or other numerical problems."
      ],
      "text/plain": [
       "<class 'statsmodels.iolib.summary.Summary'>\n",
       "\"\"\"\n",
       "                            OLS Regression Results                            \n",
       "==============================================================================\n",
       "Dep. Variable:            ts_data_log   R-squared:                       0.977\n",
       "Model:                            OLS   Adj. R-squared:                  0.972\n",
       "Method:                 Least Squares   F-statistic:                     212.0\n",
       "Date:                Mon, 30 Oct 2023   Prob (F-statistic):           1.72e-48\n",
       "Time:                        09:39:26   Log-Likelihood:                 135.61\n",
       "No. Observations:                  80   AIC:                            -243.2\n",
       "Df Residuals:                      66   BIC:                            -209.9\n",
       "Df Model:                          13                                         \n",
       "Covariance Type:            nonrobust                                         \n",
       "==============================================================================\n",
       "                 coef    std err          t      P>|t|      [0.025      0.975]\n",
       "------------------------------------------------------------------------------\n",
       "Intercept      4.6334      0.026    175.370      0.000       4.581       4.686\n",
       "T              0.0136      0.001     14.000      0.000       0.012       0.016\n",
       "T_squared  -2.992e-05   1.16e-05     -2.578      0.012   -5.31e-05   -6.75e-06\n",
       "Jan            0.0178      0.027      0.652      0.517      -0.037       0.072\n",
       "Feb            0.0221      0.027      0.809      0.422      -0.032       0.077\n",
       "Mar            0.1552      0.027      5.688      0.000       0.101       0.210\n",
       "Apr            0.1082      0.027      3.968      0.000       0.054       0.163\n",
       "May            0.0874      0.027      3.203      0.002       0.033       0.142\n",
       "Jun            0.1946      0.027      7.137      0.000       0.140       0.249\n",
       "Jul            0.2909      0.027     10.665      0.000       0.236       0.345\n",
       "Aug            0.2803      0.027     10.273      0.000       0.226       0.335\n",
       "Sep            0.1548      0.028      5.481      0.000       0.098       0.211\n",
       "Oct            0.0165      0.028      0.585      0.560      -0.040       0.073\n",
       "Nov           -0.1241      0.028     -4.396      0.000      -0.181      -0.068\n",
       "==============================================================================\n",
       "Omnibus:                        3.122   Durbin-Watson:                   0.712\n",
       "Prob(Omnibus):                  0.210   Jarque-Bera (JB):                2.415\n",
       "Skew:                          -0.297   Prob(JB):                        0.299\n",
       "Kurtosis:                       3.609   Cond. No.                     3.83e+04\n",
       "==============================================================================\n",
       "\n",
       "Notes:\n",
       "[1] Standard Errors assume that the covariance matrix of the errors is correctly specified.\n",
       "[2] The condition number is large, 3.83e+04. This might indicate that there are\n",
       "strong multicollinearity or other numerical problems.\n",
       "\"\"\""
      ]
     },
     "execution_count": 55,
     "metadata": {},
     "output_type": "execute_result"
    }
   ],
   "source": [
    "add_sea_Quad .summary()"
   ]
  },
  {
   "cell_type": "markdown",
   "id": "daa227b4",
   "metadata": {},
   "source": [
    "## Exponential additive seasonality Model"
   ]
  },
  {
   "cell_type": "code",
   "execution_count": 56,
   "id": "9b8660a0",
   "metadata": {},
   "outputs": [
    {
     "data": {
      "text/plain": [
       "9.469000230304077"
      ]
     },
     "execution_count": 56,
     "metadata": {},
     "output_type": "execute_result"
    }
   ],
   "source": [
    "Exp_sea = smf.ols('ts_data_log~T+Jan+Feb+Mar+Apr+May+Jun+Jul+Aug+Sep+Oct+Nov',data=Train).fit()\n",
    "pred_exp_sea = pd.Series(Exp_sea.predict(Test[['Jan','Feb','Mar','Apr','May','Jun','Jul','Aug','Sep','Oct','Nov','T']]))\n",
    "rmse_exp_sea = np.sqrt(mean_squared_error(Test['Passengers'],np.exp(pred_exp_sea)))\n",
    "rmse_exp_sea"
   ]
  },
  {
   "cell_type": "code",
   "execution_count": 57,
   "id": "4ff6af95",
   "metadata": {},
   "outputs": [
    {
     "data": {
      "text/html": [
       "<table class=\"simpletable\">\n",
       "<caption>OLS Regression Results</caption>\n",
       "<tr>\n",
       "  <th>Dep. Variable:</th>       <td>ts_data_log</td>   <th>  R-squared:         </th> <td>   0.974</td>\n",
       "</tr>\n",
       "<tr>\n",
       "  <th>Model:</th>                   <td>OLS</td>       <th>  Adj. R-squared:    </th> <td>   0.970</td>\n",
       "</tr>\n",
       "<tr>\n",
       "  <th>Method:</th>             <td>Least Squares</td>  <th>  F-statistic:       </th> <td>   211.3</td>\n",
       "</tr>\n",
       "<tr>\n",
       "  <th>Date:</th>             <td>Mon, 30 Oct 2023</td> <th>  Prob (F-statistic):</th> <td>2.71e-48</td>\n",
       "</tr>\n",
       "<tr>\n",
       "  <th>Time:</th>                 <td>09:39:27</td>     <th>  Log-Likelihood:    </th> <td>  131.77</td>\n",
       "</tr>\n",
       "<tr>\n",
       "  <th>No. Observations:</th>      <td>    80</td>      <th>  AIC:               </th> <td>  -237.5</td>\n",
       "</tr>\n",
       "<tr>\n",
       "  <th>Df Residuals:</th>          <td>    67</td>      <th>  BIC:               </th> <td>  -206.6</td>\n",
       "</tr>\n",
       "<tr>\n",
       "  <th>Df Model:</th>              <td>    12</td>      <th>                     </th>     <td> </td>   \n",
       "</tr>\n",
       "<tr>\n",
       "  <th>Covariance Type:</th>      <td>nonrobust</td>    <th>                     </th>     <td> </td>   \n",
       "</tr>\n",
       "</table>\n",
       "<table class=\"simpletable\">\n",
       "<tr>\n",
       "      <td></td>         <th>coef</th>     <th>std err</th>      <th>t</th>      <th>P>|t|</th>  <th>[0.025</th>    <th>0.975]</th>  \n",
       "</tr>\n",
       "<tr>\n",
       "  <th>Intercept</th> <td>    4.6699</td> <td>    0.023</td> <td>  200.910</td> <td> 0.000</td> <td>    4.623</td> <td>    4.716</td>\n",
       "</tr>\n",
       "<tr>\n",
       "  <th>T</th>         <td>    0.0112</td> <td>    0.000</td> <td>   45.054</td> <td> 0.000</td> <td>    0.011</td> <td>    0.012</td>\n",
       "</tr>\n",
       "<tr>\n",
       "  <th>Jan</th>       <td>    0.0128</td> <td>    0.028</td> <td>    0.453</td> <td> 0.652</td> <td>   -0.044</td> <td>    0.069</td>\n",
       "</tr>\n",
       "<tr>\n",
       "  <th>Feb</th>       <td>    0.0173</td> <td>    0.028</td> <td>    0.610</td> <td> 0.544</td> <td>   -0.039</td> <td>    0.074</td>\n",
       "</tr>\n",
       "<tr>\n",
       "  <th>Mar</th>       <td>    0.1505</td> <td>    0.028</td> <td>    5.310</td> <td> 0.000</td> <td>    0.094</td> <td>    0.207</td>\n",
       "</tr>\n",
       "<tr>\n",
       "  <th>Apr</th>       <td>    0.1036</td> <td>    0.028</td> <td>    3.657</td> <td> 0.001</td> <td>    0.047</td> <td>    0.160</td>\n",
       "</tr>\n",
       "<tr>\n",
       "  <th>May</th>       <td>    0.0827</td> <td>    0.028</td> <td>    2.920</td> <td> 0.005</td> <td>    0.026</td> <td>    0.139</td>\n",
       "</tr>\n",
       "<tr>\n",
       "  <th>Jun</th>       <td>    0.1900</td> <td>    0.028</td> <td>    6.705</td> <td> 0.000</td> <td>    0.133</td> <td>    0.247</td>\n",
       "</tr>\n",
       "<tr>\n",
       "  <th>Jul</th>       <td>    0.2861</td> <td>    0.028</td> <td>   10.097</td> <td> 0.000</td> <td>    0.230</td> <td>    0.343</td>\n",
       "</tr>\n",
       "<tr>\n",
       "  <th>Aug</th>       <td>    0.2753</td> <td>    0.028</td> <td>    9.715</td> <td> 0.000</td> <td>    0.219</td> <td>    0.332</td>\n",
       "</tr>\n",
       "<tr>\n",
       "  <th>Sep</th>       <td>    0.1548</td> <td>    0.029</td> <td>    5.264</td> <td> 0.000</td> <td>    0.096</td> <td>    0.214</td>\n",
       "</tr>\n",
       "<tr>\n",
       "  <th>Oct</th>       <td>    0.0166</td> <td>    0.029</td> <td>    0.564</td> <td> 0.575</td> <td>   -0.042</td> <td>    0.075</td>\n",
       "</tr>\n",
       "<tr>\n",
       "  <th>Nov</th>       <td>   -0.1241</td> <td>    0.029</td> <td>   -4.220</td> <td> 0.000</td> <td>   -0.183</td> <td>   -0.065</td>\n",
       "</tr>\n",
       "</table>\n",
       "<table class=\"simpletable\">\n",
       "<tr>\n",
       "  <th>Omnibus:</th>       <td> 0.911</td> <th>  Durbin-Watson:     </th> <td>   0.641</td>\n",
       "</tr>\n",
       "<tr>\n",
       "  <th>Prob(Omnibus):</th> <td> 0.634</td> <th>  Jarque-Bera (JB):  </th> <td>   0.505</td>\n",
       "</tr>\n",
       "<tr>\n",
       "  <th>Skew:</th>          <td>-0.177</td> <th>  Prob(JB):          </th> <td>   0.777</td>\n",
       "</tr>\n",
       "<tr>\n",
       "  <th>Kurtosis:</th>      <td> 3.163</td> <th>  Cond. No.          </th> <td>    611.</td>\n",
       "</tr>\n",
       "</table><br/><br/>Notes:<br/>[1] Standard Errors assume that the covariance matrix of the errors is correctly specified."
      ],
      "text/plain": [
       "<class 'statsmodels.iolib.summary.Summary'>\n",
       "\"\"\"\n",
       "                            OLS Regression Results                            \n",
       "==============================================================================\n",
       "Dep. Variable:            ts_data_log   R-squared:                       0.974\n",
       "Model:                            OLS   Adj. R-squared:                  0.970\n",
       "Method:                 Least Squares   F-statistic:                     211.3\n",
       "Date:                Mon, 30 Oct 2023   Prob (F-statistic):           2.71e-48\n",
       "Time:                        09:39:27   Log-Likelihood:                 131.77\n",
       "No. Observations:                  80   AIC:                            -237.5\n",
       "Df Residuals:                      67   BIC:                            -206.6\n",
       "Df Model:                          12                                         \n",
       "Covariance Type:            nonrobust                                         \n",
       "==============================================================================\n",
       "                 coef    std err          t      P>|t|      [0.025      0.975]\n",
       "------------------------------------------------------------------------------\n",
       "Intercept      4.6699      0.023    200.910      0.000       4.623       4.716\n",
       "T              0.0112      0.000     45.054      0.000       0.011       0.012\n",
       "Jan            0.0128      0.028      0.453      0.652      -0.044       0.069\n",
       "Feb            0.0173      0.028      0.610      0.544      -0.039       0.074\n",
       "Mar            0.1505      0.028      5.310      0.000       0.094       0.207\n",
       "Apr            0.1036      0.028      3.657      0.001       0.047       0.160\n",
       "May            0.0827      0.028      2.920      0.005       0.026       0.139\n",
       "Jun            0.1900      0.028      6.705      0.000       0.133       0.247\n",
       "Jul            0.2861      0.028     10.097      0.000       0.230       0.343\n",
       "Aug            0.2753      0.028      9.715      0.000       0.219       0.332\n",
       "Sep            0.1548      0.029      5.264      0.000       0.096       0.214\n",
       "Oct            0.0166      0.029      0.564      0.575      -0.042       0.075\n",
       "Nov           -0.1241      0.029     -4.220      0.000      -0.183      -0.065\n",
       "==============================================================================\n",
       "Omnibus:                        0.911   Durbin-Watson:                   0.641\n",
       "Prob(Omnibus):                  0.634   Jarque-Bera (JB):                0.505\n",
       "Skew:                          -0.177   Prob(JB):                        0.777\n",
       "Kurtosis:                       3.163   Cond. No.                         611.\n",
       "==============================================================================\n",
       "\n",
       "Notes:\n",
       "[1] Standard Errors assume that the covariance matrix of the errors is correctly specified.\n",
       "\"\"\""
      ]
     },
     "execution_count": 57,
     "metadata": {},
     "output_type": "execute_result"
    }
   ],
   "source": [
    "Exp_sea.summary()"
   ]
  },
  {
   "cell_type": "markdown",
   "id": "fc699b39",
   "metadata": {},
   "source": [
    "## Compare the results"
   ]
  },
  {
   "cell_type": "code",
   "execution_count": 58,
   "id": "9c262da2",
   "metadata": {},
   "outputs": [
    {
     "data": {
      "text/html": [
       "<div>\n",
       "<style scoped>\n",
       "    .dataframe tbody tr th:only-of-type {\n",
       "        vertical-align: middle;\n",
       "    }\n",
       "\n",
       "    .dataframe tbody tr th {\n",
       "        vertical-align: top;\n",
       "    }\n",
       "\n",
       "    .dataframe thead th {\n",
       "        text-align: right;\n",
       "    }\n",
       "</style>\n",
       "<table border=\"1\" class=\"dataframe\">\n",
       "  <thead>\n",
       "    <tr style=\"text-align: right;\">\n",
       "      <th></th>\n",
       "      <th>MODEL</th>\n",
       "      <th>RMSE_Values</th>\n",
       "    </tr>\n",
       "  </thead>\n",
       "  <tbody>\n",
       "    <tr>\n",
       "      <th>8</th>\n",
       "      <td>rmse_exp_sea</td>\n",
       "      <td>9.469000</td>\n",
       "    </tr>\n",
       "    <tr>\n",
       "      <th>7</th>\n",
       "      <td>rmse_add_sea_quad</td>\n",
       "      <td>23.086349</td>\n",
       "    </tr>\n",
       "    <tr>\n",
       "      <th>6</th>\n",
       "      <td>rmse_Mult_sea_quad</td>\n",
       "      <td>23.910984</td>\n",
       "    </tr>\n",
       "    <tr>\n",
       "      <th>3</th>\n",
       "      <td>rmse_Quad</td>\n",
       "      <td>43.654404</td>\n",
       "    </tr>\n",
       "    <tr>\n",
       "      <th>1</th>\n",
       "      <td>Exp_rmse</td>\n",
       "      <td>43.793739</td>\n",
       "    </tr>\n",
       "    <tr>\n",
       "      <th>0</th>\n",
       "      <td>linear_rmse</td>\n",
       "      <td>47.542624</td>\n",
       "    </tr>\n",
       "    <tr>\n",
       "      <th>2</th>\n",
       "      <td>Arima_rmse</td>\n",
       "      <td>51.814039</td>\n",
       "    </tr>\n",
       "    <tr>\n",
       "      <th>4</th>\n",
       "      <td>rmse_Mult_sea</td>\n",
       "      <td>129.266476</td>\n",
       "    </tr>\n",
       "    <tr>\n",
       "      <th>5</th>\n",
       "      <td>rmse_add_sea</td>\n",
       "      <td>135.326484</td>\n",
       "    </tr>\n",
       "  </tbody>\n",
       "</table>\n",
       "</div>"
      ],
      "text/plain": [
       "                MODEL  RMSE_Values\n",
       "8        rmse_exp_sea     9.469000\n",
       "7   rmse_add_sea_quad    23.086349\n",
       "6  rmse_Mult_sea_quad    23.910984\n",
       "3           rmse_Quad    43.654404\n",
       "1            Exp_rmse    43.793739\n",
       "0         linear_rmse    47.542624\n",
       "2          Arima_rmse    51.814039\n",
       "4       rmse_Mult_sea   129.266476\n",
       "5        rmse_add_sea   135.326484"
      ]
     },
     "execution_count": 58,
     "metadata": {},
     "output_type": "execute_result"
    }
   ],
   "source": [
    "data = {\"MODEL\":pd.Series([\"linear_rmse\",\"Exp_rmse\",\"Arima_rmse\",\"rmse_Quad\",\"rmse_Mult_sea\",\"rmse_add_sea\",\"rmse_Mult_sea_quad\",\"rmse_add_sea_quad\",\"rmse_exp_sea\"]),\n",
    "        \"RMSE_Values\":pd.Series([linear_rmse,Exp_rmse,Arima_rmse,rmse_Quad,rmse_Mult_sea,rmse_Add_sea,rmse_Mult_sea_quad,rmse_add_sea_quad,rmse_exp_sea])}\n",
    "table_rmse=pd.DataFrame(data)\n",
    "table_rmse.sort_values(['RMSE_Values'])"
   ]
  },
  {
   "cell_type": "code",
   "execution_count": 59,
   "id": "ea32e8f8",
   "metadata": {},
   "outputs": [
    {
     "data": {
      "text/plain": [
       "80    307.323808\n",
       "81    270.648521\n",
       "82    237.771343\n",
       "83    272.199133\n",
       "84    278.808336\n",
       "85    283.189950\n",
       "86    327.170631\n",
       "87    315.686737\n",
       "88    312.633514\n",
       "89    351.916335\n",
       "90    391.762817\n",
       "91    391.909918\n",
       "92    351.324969\n",
       "93    309.398688\n",
       "94    271.814312\n",
       "95    311.171310\n",
       "dtype: float64"
      ]
     },
     "execution_count": 59,
     "metadata": {},
     "output_type": "execute_result"
    }
   ],
   "source": [
    "np.exp(pred_exp_sea)"
   ]
  },
  {
   "cell_type": "code",
   "execution_count": 60,
   "id": "15b5d61f",
   "metadata": {},
   "outputs": [
    {
     "data": {
      "image/png": "[encoded data removed]",
      "text/plain": [
       "<Figure size 1400x600 with 1 Axes>"
      ]
     },
     "metadata": {},
     "output_type": "display_data"
    }
   ],
   "source": [
    "plt.figure(figsize=(14,6))\n",
    "plt.plot(Train['Passengers'], label='Train')\n",
    "plt.plot(Test['Passengers'], label='Test')\n",
    "plt.plot(np.exp(pred_exp_sea), label='OLS Forecast')\n",
    "plt.legend(loc='best')\n",
    "plt.show()\n"
   ]
  },
  {
   "cell_type": "code",
   "execution_count": 61,
   "id": "7d9fa295",
   "metadata": {},
   "outputs": [
    {
     "data": {
      "image/png": "[encoded data removed]",
      "text/plain": [
       "<Figure size 640x480 with 1 Axes>"
      ]
     },
     "metadata": {},
     "output_type": "display_data"
    }
   ],
   "source": [
    "sns.barplot(y=data['MODEL'],x=data['RMSE_Values'],data=table_rmse)\n",
    "plt.title('Root mean square error for diffrent model');"
   ]
  },
  {
   "cell_type": "markdown",
   "id": "c840d77d",
   "metadata": {},
   "source": [
    "## Ordinary Least Sqaured with Exponential Additive Seasonality:\n",
    "\n",
    "## The best model we have got so far with the lowest RMSE."
   ]
  },
  {
   "cell_type": "code",
   "execution_count": null,
   "id": "8c685e4d",
   "metadata": {},
   "outputs": [],
   "source": []
  }
 ],
 "metadata": {
  "kernelspec": {
   "display_name": "Python 3 (ipykernel)",
   "language": "python",
   "name": "python3"
  },
  "language_info": {
   "codemirror_mode": {
    "name": "ipython",
    "version": 3
   },
   "file_extension": ".py",
   "mimetype": "text/x-python",
   "name": "python",
   "nbconvert_exporter": "python",
   "pygments_lexer": "ipython3",
   "version": "3.10.9"
  }
 },
 "nbformat": 4,
 "nbformat_minor": 5
}
